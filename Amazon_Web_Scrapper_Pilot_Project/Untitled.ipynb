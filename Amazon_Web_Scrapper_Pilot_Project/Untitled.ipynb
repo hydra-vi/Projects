{
 "cells": [
  {
   "cell_type": "code",
   "execution_count": 1,
   "id": "9c0d80e8",
   "metadata": {},
   "outputs": [],
   "source": [
    "# import all necessary libraries \n",
    "\n",
    "from bs4 import BeautifulSoup\n",
    "import requests\n",
    "import time\n",
    "import datetime\n",
    "import smtplib"
   ]
  },
  {
   "cell_type": "code",
   "execution_count": 5,
   "id": "345e99de",
   "metadata": {},
   "outputs": [
    {
     "ename": "ModuleNotFoundError",
     "evalue": "No module named 'skfuzzy'",
     "output_type": "error",
     "traceback": [
      "\u001b[0;31m---------------------------------------------------------------------------\u001b[0m",
      "\u001b[0;31mModuleNotFoundError\u001b[0m                       Traceback (most recent call last)",
      "Cell \u001b[0;32mIn[5], line 11\u001b[0m\n\u001b[1;32m      1\u001b[0m \u001b[38;5;124;03m\"\"\"\u001b[39;00m\n\u001b[1;32m      2\u001b[0m \u001b[38;5;124;03mREADME, Author - Jigyasa Gandhi(mailto:jigsgandhi97@gmail.com)\u001b[39;00m\n\u001b[1;32m      3\u001b[0m \u001b[38;5;124;03mRequirements:\u001b[39;00m\n\u001b[0;32m   (...)\u001b[0m\n\u001b[1;32m      8\u001b[0m \u001b[38;5;124;03m  - 3.5\u001b[39;00m\n\u001b[1;32m      9\u001b[0m \u001b[38;5;124;03m\"\"\"\u001b[39;00m\n\u001b[1;32m     10\u001b[0m \u001b[38;5;28;01mimport\u001b[39;00m \u001b[38;5;21;01mnumpy\u001b[39;00m \u001b[38;5;28;01mas\u001b[39;00m \u001b[38;5;21;01mnp\u001b[39;00m\n\u001b[0;32m---> 11\u001b[0m \u001b[38;5;28;01mimport\u001b[39;00m \u001b[38;5;21;01mskfuzzy\u001b[39;00m \u001b[38;5;28;01mas\u001b[39;00m \u001b[38;5;21;01mfuzz\u001b[39;00m\n\u001b[1;32m     13\u001b[0m \u001b[38;5;28;01mif\u001b[39;00m \u001b[38;5;18m__name__\u001b[39m \u001b[38;5;241m==\u001b[39m \u001b[38;5;124m\"\u001b[39m\u001b[38;5;124m__main__\u001b[39m\u001b[38;5;124m\"\u001b[39m:\n\u001b[1;32m     14\u001b[0m     \u001b[38;5;66;03m# Create universe of discourse in Python using linspace ()\u001b[39;00m\n\u001b[1;32m     15\u001b[0m     X \u001b[38;5;241m=\u001b[39m np\u001b[38;5;241m.\u001b[39mlinspace(start\u001b[38;5;241m=\u001b[39m\u001b[38;5;241m0\u001b[39m, stop\u001b[38;5;241m=\u001b[39m\u001b[38;5;241m75\u001b[39m, num\u001b[38;5;241m=\u001b[39m\u001b[38;5;241m75\u001b[39m, endpoint\u001b[38;5;241m=\u001b[39m\u001b[38;5;28;01mTrue\u001b[39;00m, retstep\u001b[38;5;241m=\u001b[39m\u001b[38;5;28;01mFalse\u001b[39;00m)\n",
      "\u001b[0;31mModuleNotFoundError\u001b[0m: No module named 'skfuzzy'"
     ]
    }
   ],
   "source": [
    "\"\"\"\n",
    "README, Author - Jigyasa Gandhi(mailto:jigsgandhi97@gmail.com)\n",
    "Requirements:\n",
    "  - scikit-fuzzy\n",
    "  - numpy\n",
    "  - matplotlib\n",
    "Python:\n",
    "  - 3.5\n",
    "\"\"\"\n",
    "import numpy as np\n",
    "import skfuzzy as fuzz\n",
    "\n",
    "if __name__ == \"__main__\":\n",
    "    # Create universe of discourse in Python using linspace ()\n",
    "    X = np.linspace(start=0, stop=75, num=75, endpoint=True, retstep=False)\n",
    "\n",
    "    # Create two fuzzy sets by defining any membership function\n",
    "    # (trapmf(), gbellmf(), gaussmf(), etc).\n",
    "    abc1 = [0, 25, 50]\n",
    "    abc2 = [25, 50, 75]\n",
    "    young = fuzz.membership.trimf(X, abc1)\n",
    "    middle_aged = fuzz.membership.trimf(X, abc2)\n",
    "\n",
    "    # Compute the different operations using inbuilt functions.\n",
    "    one = np.ones(75)\n",
    "    zero = np.zeros((75,))\n",
    "    # 1. Union = max(µA(x), µB(x))\n",
    "    union = fuzz.fuzzy_or(X, young, X, middle_aged)[1]\n",
    "    # 2. Intersection = min(µA(x), µB(x))\n",
    "    intersection = fuzz.fuzzy_and(X, young, X, middle_aged)[1]\n",
    "    # 3. Complement (A) = (1- min(µA(x))\n",
    "    complement_a = fuzz.fuzzy_not(young)\n",
    "    # 4. Difference (A/B) = min(µA(x),(1- µB(x)))\n",
    "    difference = fuzz.fuzzy_and(X, young, X, fuzz.fuzzy_not(middle_aged)[1])[1]\n",
    "    # 5. Algebraic Sum = [µA(x) + µB(x) – (µA(x) * µB(x))]\n",
    "    alg_sum = young + middle_aged - (young * middle_aged)\n",
    "    # 6. Algebraic Product = (µA(x) * µB(x))\n",
    "    alg_product = young * middle_aged\n",
    "    # 7. Bounded Sum = min[1,(µA(x), µB(x))]\n",
    "    bdd_sum = fuzz.fuzzy_and(X, one, X, young + middle_aged)[1]\n",
    "    # 8. Bounded difference = min[0,(µA(x), µB(x))]\n",
    "    bdd_difference = fuzz.fuzzy_or(X, zero, X, young - middle_aged)[1]\n",
    "\n",
    "    # max-min composition\n",
    "    # max-product composition\n",
    "\n",
    "    # Plot each set A, set B and each operation result using plot() and subplot().\n",
    "    from matplotlib import pyplot as plt\n",
    "\n",
    "    plt.figure()\n",
    "\n",
    "    plt.subplot(4, 3, 1)\n",
    "    plt.plot(X, young)\n",
    "    plt.title(\"Young\")\n",
    "    plt.grid(True)\n",
    "\n",
    "    plt.subplot(4, 3, 2)\n",
    "    plt.plot(X, middle_aged)\n",
    "    plt.title(\"Middle aged\")\n",
    "    plt.grid(True)\n",
    "\n",
    "    plt.subplot(4, 3, 3)\n",
    "    plt.plot(X, union)\n",
    "    plt.title(\"union\")\n",
    "    plt.grid(True)\n",
    "\n",
    "    plt.subplot(4, 3, 4)\n",
    "    plt.plot(X, intersection)\n",
    "    plt.title(\"intersection\")\n",
    "    plt.grid(True)\n",
    "\n",
    "    plt.subplot(4, 3, 5)\n",
    "    plt.plot(X, complement_a)\n",
    "    plt.title(\"complement_a\")\n",
    "    plt.grid(True)\n",
    "\n",
    "    plt.subplot(4, 3, 6)\n",
    "    plt.plot(X, difference)\n",
    "    plt.title(\"difference a/b\")\n",
    "    plt.grid(True)\n",
    "\n",
    "    plt.subplot(4, 3, 7)\n",
    "    plt.plot(X, alg_sum)\n",
    "    plt.title(\"alg_sum\")\n",
    "    plt.grid(True)\n",
    "\n",
    "    plt.subplot(4, 3, 8)\n",
    "    plt.plot(X, alg_product)\n",
    "    plt.title(\"alg_product\")\n",
    "    plt.grid(True)\n",
    "\n",
    "    plt.subplot(4, 3, 9)\n",
    "    plt.plot(X, bdd_sum)\n",
    "    plt.title(\"bdd_sum\")\n",
    "    plt.grid(True)\n",
    "\n",
    "    plt.subplot(4, 3, 10)\n",
    "    plt.plot(X, bdd_difference)\n",
    "    plt.title(\"bdd_difference\")\n",
    "    plt.grid(True)\n",
    "\n",
    "    plt.subplots_adjust(hspace=0.5)\n",
    "    plt.show()"
   ]
  },
  {
   "cell_type": "code",
   "execution_count": 7,
   "id": "e5df0fcc",
   "metadata": {},
   "outputs": [
    {
     "name": "stdout",
     "output_type": "stream",
     "text": [
      "\u001b[31mERROR: Could not find a version that satisfies the requirement skfuzzy (from versions: none)\u001b[0m\u001b[31m\r\n",
      "\u001b[0m\u001b[31mERROR: No matching distribution found for skfuzzy\u001b[0m\u001b[31m\r\n",
      "\u001b[0m"
     ]
    }
   ],
   "source": [
    "!pip install skfuzzy"
   ]
  },
  {
   "cell_type": "code",
   "execution_count": null,
   "id": "affca93c",
   "metadata": {},
   "outputs": [],
   "source": []
  }
 ],
 "metadata": {
  "kernelspec": {
   "display_name": "Python 3 (ipykernel)",
   "language": "python",
   "name": "python3"
  },
  "language_info": {
   "codemirror_mode": {
    "name": "ipython",
    "version": 3
   },
   "file_extension": ".py",
   "mimetype": "text/x-python",
   "name": "python",
   "nbconvert_exporter": "python",
   "pygments_lexer": "ipython3",
   "version": "3.11.4"
  }
 },
 "nbformat": 4,
 "nbformat_minor": 5
}

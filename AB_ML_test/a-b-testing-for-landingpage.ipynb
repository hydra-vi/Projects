{
 "cells": [
  {
   "cell_type": "markdown",
   "id": "a855fce1",
   "metadata": {
    "papermill": {
     "duration": 0.021918,
     "end_time": "2022-09-04T09:58:32.347656",
     "exception": false,
     "start_time": "2022-09-04T09:58:32.325738",
     "status": "completed"
    },
    "tags": []
   },
   "source": [
    "# Project: Analyze A/B Test Results For LandingPage\n",
    "\n",
    "\n",
    "## Table of Contents:\n",
    "\n",
    "- [Introduction](#intro)\n",
    "- [Questions](#Quest)\n",
    "- [Part I - Data Wrangling & Probability](#wrang&prob)\n",
    "- [Part II - Exploratory Data Analysis(EDA) & Probability](#EDA&prob)\n",
    "- [Part III - A/B Test](#ab_test)\n",
    "- [Part IV - Regression](#regression)\n",
    "- [Conclusions](#Concl)\n",
    "\n",
    "\n",
    "\n",
    "\n",
    "<a id='intro'></a>\n",
    "## Introduction\n",
    "\n",
    "#### For this project, we will be working to understand the results of an A/B test run by an e-commerce website. we goal is to work through this notebook to help the company understand if they should:\n",
    "\n",
    "<a id='Quest'></a>\n",
    "## Questions\n",
    "- Implement the New landing page, \n",
    "- Keep the Old landing page, or \n",
    "- Perhaps run the experiment longer to make their decision.\n",
    "\n",
    "#### - First of all, let's import the basic and necessary libraries ."
   ]
  },
  {
   "cell_type": "code",
   "execution_count": null,
   "id": "53bf934d",
   "metadata": {},
   "outputs": [
    {
     "ename": "",
     "evalue": "",
     "output_type": "error",
     "traceback": [
      "\u001b[1;31mRunning cells with '/usr/bin/python3' requires the ipykernel package.\n",
      "\u001b[1;31mRun the following command to install 'ipykernel' into the Python environment. \n",
      "\u001b[1;31mCommand: '/usr/bin/python3 -m pip install ipykernel -U --user --force-reinstall'"
     ]
    }
   ],
   "source": [
    "!pip install pandas"
   ]
  },
  {
   "cell_type": "code",
   "execution_count": null,
   "id": "5565819d",
   "metadata": {
    "execution": {
     "iopub.execute_input": "2022-09-04T09:58:32.388297Z",
     "iopub.status.busy": "2022-09-04T09:58:32.387501Z",
     "iopub.status.idle": "2022-09-04T09:58:33.603488Z",
     "shell.execute_reply": "2022-09-04T09:58:33.602384Z"
    },
    "papermill": {
     "duration": 1.23959,
     "end_time": "2022-09-04T09:58:33.606498",
     "exception": false,
     "start_time": "2022-09-04T09:58:32.366908",
     "status": "completed"
    },
    "tags": []
   },
   "outputs": [
    {
     "ename": "",
     "evalue": "",
     "output_type": "error",
     "traceback": [
      "\u001b[1;31mRunning cells with '/usr/bin/python3' requires the ipykernel package.\n",
      "\u001b[1;31mRun the following command to install 'ipykernel' into the Python environment. \n",
      "\u001b[1;31mCommand: '/usr/bin/python3 -m pip install ipykernel -U --user --force-reinstall'"
     ]
    }
   ],
   "source": [
    "import numpy as np\n",
    "import pandas as pd\n",
    "import matplotlib.pyplot as plt\n",
    "%matplotlib inline\n",
    "import seaborn as sns\n",
    "import datetime\n",
    "sns.set_style(\"whitegrid\")\n",
    "pd.options.display.max_colwidth = 18\n",
    "pd.options.display.max_columns = 50"
   ]
  },
  {
   "cell_type": "markdown",
   "id": "41dd66fa",
   "metadata": {
    "papermill": {
     "duration": 0.019244,
     "end_time": "2022-09-04T09:58:33.645571",
     "exception": false,
     "start_time": "2022-09-04T09:58:33.626327",
     "status": "completed"
    },
    "tags": []
   },
   "source": [
    "<a id='wrang&prob'></a>\n",
    "## Part I - Data Wrangling & Probability\n",
    "\n",
    "#### We will do the following steps:\n",
    "\n",
    "- Gathering data from the dataset and investigate it in an effort to understand more details about it.\n",
    "- Performing a data assessment to identify any issues with data types, structure, or quality.\n",
    "- Performing data cleaning by changing data types, replacing values, removing unnecessary data, and modifying the dataset for easier and faster analysis.\n"
   ]
  },
  {
   "cell_type": "markdown",
   "id": "4f13ab55",
   "metadata": {
    "papermill": {
     "duration": 0.018739,
     "end_time": "2022-09-04T09:58:33.683335",
     "exception": false,
     "start_time": "2022-09-04T09:58:33.664596",
     "status": "completed"
    },
    "tags": []
   },
   "source": [
    "#### #Below is a description of this data set \n",
    "\n",
    "- **Campaign Name:** Target campaign type for ad landing page.\n",
    "\n",
    "- **Spend [USD]:** The amount of money spent on advertising in the campaign.\n",
    "\n",
    "- **of Impressions:** The number of people who viewed the ad in the campaign (contains repeated viewing of the same person for the ad).\n",
    "\n",
    "- **Reach:** The number of unique people who saw the ad in the campaign.\n",
    "\n",
    "- **of Website Clicks:** The number of users who clicked on the website link in the campaign's advertisement.\n",
    "\n",
    "- **of Searches:** The number of users who performed a search on the website.\n",
    "\n",
    "- **of View Content:** Number of users who have viewed product details.\n",
    "\n",
    "- **of Add to Cart:** The number of users who have added the product to the cart.\n",
    "\n",
    "- **of Purchase:** The number of users who have purchased the product."
   ]
  },
  {
   "cell_type": "markdown",
   "id": "5b173d72",
   "metadata": {
    "papermill": {
     "duration": 0.018543,
     "end_time": "2022-09-04T09:58:33.720827",
     "exception": false,
     "start_time": "2022-09-04T09:58:33.702284",
     "status": "completed"
    },
    "tags": []
   },
   "source": [
    "- ### Gathering Data\n",
    "\n",
    "**A.** Reading in the control group's data set from the `control_group.csv` file and take a look at the top few rows here:"
   ]
  },
  {
   "cell_type": "code",
   "execution_count": null,
   "id": "42b4cfc3",
   "metadata": {
    "execution": {
     "iopub.execute_input": "2022-09-04T09:58:33.760619Z",
     "iopub.status.busy": "2022-09-04T09:58:33.760219Z",
     "iopub.status.idle": "2022-09-04T09:58:33.800047Z",
     "shell.execute_reply": "2022-09-04T09:58:33.799177Z"
    },
    "papermill": {
     "duration": 0.062882,
     "end_time": "2022-09-04T09:58:33.802691",
     "exception": false,
     "start_time": "2022-09-04T09:58:33.739809",
     "status": "completed"
    },
    "tags": []
   },
   "outputs": [
    {
     "ename": "",
     "evalue": "",
     "output_type": "error",
     "traceback": [
      "\u001b[1;31mRunning cells with '/usr/bin/python3' requires the ipykernel package.\n",
      "\u001b[1;31mRun the following command to install 'ipykernel' into the Python environment. \n",
      "\u001b[1;31mCommand: '/usr/bin/python3 -m pip install ipykernel -U --user --force-reinstall'"
     ]
    }
   ],
   "source": [
    "df_cont= pd.read_csv('../input/example-dataset-for-ab-test/control_group.csv', sep = \";\")\n",
    "df_cont.head()"
   ]
  },
  {
   "cell_type": "code",
   "execution_count": null,
   "id": "619846f9",
   "metadata": {
    "execution": {
     "iopub.execute_input": "2022-09-04T09:58:33.843537Z",
     "iopub.status.busy": "2022-09-04T09:58:33.842858Z",
     "iopub.status.idle": "2022-09-04T09:58:33.847884Z",
     "shell.execute_reply": "2022-09-04T09:58:33.847061Z"
    },
    "papermill": {
     "duration": 0.027994,
     "end_time": "2022-09-04T09:58:33.850111",
     "exception": false,
     "start_time": "2022-09-04T09:58:33.822117",
     "status": "completed"
    },
    "tags": []
   },
   "outputs": [
    {
     "ename": "",
     "evalue": "",
     "output_type": "error",
     "traceback": [
      "\u001b[1;31mRunning cells with '/usr/bin/python3' requires the ipykernel package.\n",
      "\u001b[1;31mRun the following command to install 'ipykernel' into the Python environment. \n",
      "\u001b[1;31mCommand: '/usr/bin/python3 -m pip install ipykernel -U --user --force-reinstall'"
     ]
    }
   ],
   "source": [
    "def to_clean(val):\n",
    "    return val.strip().lower().replace(\"# \", \"\").replace(\"of \", \"\").replace(\" \",\"_\").replace(\"[usd]\", \"usd\")\n"
   ]
  },
  {
   "cell_type": "code",
   "execution_count": null,
   "id": "0d7157d7",
   "metadata": {
    "execution": {
     "iopub.execute_input": "2022-09-04T09:58:33.891770Z",
     "iopub.status.busy": "2022-09-04T09:58:33.891018Z",
     "iopub.status.idle": "2022-09-04T09:58:33.896079Z",
     "shell.execute_reply": "2022-09-04T09:58:33.895299Z"
    },
    "papermill": {
     "duration": 0.028232,
     "end_time": "2022-09-04T09:58:33.898197",
     "exception": false,
     "start_time": "2022-09-04T09:58:33.869965",
     "status": "completed"
    },
    "scrolled": true,
    "tags": []
   },
   "outputs": [
    {
     "ename": "",
     "evalue": "",
     "output_type": "error",
     "traceback": [
      "\u001b[1;31mRunning cells with '/usr/bin/python3' requires the ipykernel package.\n",
      "\u001b[1;31mRun the following command to install 'ipykernel' into the Python environment. \n",
      "\u001b[1;31mCommand: '/usr/bin/python3 -m pip install ipykernel -U --user --force-reinstall'"
     ]
    }
   ],
   "source": [
    "df_cont.rename(columns=to_clean, inplace= True)"
   ]
  },
  {
   "cell_type": "code",
   "execution_count": null,
   "id": "106e5f27",
   "metadata": {
    "execution": {
     "iopub.execute_input": "2022-09-04T09:58:33.940777Z",
     "iopub.status.busy": "2022-09-04T09:58:33.940036Z",
     "iopub.status.idle": "2022-09-04T09:58:33.959606Z",
     "shell.execute_reply": "2022-09-04T09:58:33.958692Z"
    },
    "papermill": {
     "duration": 0.043822,
     "end_time": "2022-09-04T09:58:33.962360",
     "exception": false,
     "start_time": "2022-09-04T09:58:33.918538",
     "status": "completed"
    },
    "tags": []
   },
   "outputs": [
    {
     "ename": "",
     "evalue": "",
     "output_type": "error",
     "traceback": [
      "\u001b[1;31mRunning cells with '/usr/bin/python3' requires the ipykernel package.\n",
      "\u001b[1;31mRun the following command to install 'ipykernel' into the Python environment. \n",
      "\u001b[1;31mCommand: '/usr/bin/python3 -m pip install ipykernel -U --user --force-reinstall'"
     ]
    }
   ],
   "source": [
    "df_cont.head()"
   ]
  },
  {
   "cell_type": "markdown",
   "id": "6f2e77bb",
   "metadata": {
    "papermill": {
     "duration": 0.021878,
     "end_time": "2022-09-04T09:58:34.010539",
     "exception": false,
     "start_time": "2022-09-04T09:58:33.988661",
     "status": "completed"
    },
    "tags": []
   },
   "source": [
    "**B.** Reading in the test group's data set from the control_group.csv file and take a look at the top few rows here:"
   ]
  },
  {
   "cell_type": "code",
   "execution_count": null,
   "id": "e661c088",
   "metadata": {
    "execution": {
     "iopub.execute_input": "2022-09-04T09:58:34.052821Z",
     "iopub.status.busy": "2022-09-04T09:58:34.052102Z",
     "iopub.status.idle": "2022-09-04T09:58:34.072730Z",
     "shell.execute_reply": "2022-09-04T09:58:34.071342Z"
    },
    "papermill": {
     "duration": 0.044643,
     "end_time": "2022-09-04T09:58:34.075102",
     "exception": false,
     "start_time": "2022-09-04T09:58:34.030459",
     "status": "completed"
    },
    "tags": []
   },
   "outputs": [
    {
     "ename": "",
     "evalue": "",
     "output_type": "error",
     "traceback": [
      "\u001b[1;31mRunning cells with '/usr/bin/python3' requires the ipykernel package.\n",
      "\u001b[1;31mRun the following command to install 'ipykernel' into the Python environment. \n",
      "\u001b[1;31mCommand: '/usr/bin/python3 -m pip install ipykernel -U --user --force-reinstall'"
     ]
    }
   ],
   "source": [
    "df_test= pd.read_csv('../input/example-dataset-for-ab-test/test_group.csv', sep=';')\n",
    "\n",
    "df_test.head()"
   ]
  },
  {
   "cell_type": "code",
   "execution_count": null,
   "id": "aa06260c",
   "metadata": {
    "execution": {
     "iopub.execute_input": "2022-09-04T09:58:34.117588Z",
     "iopub.status.busy": "2022-09-04T09:58:34.117151Z",
     "iopub.status.idle": "2022-09-04T09:58:34.122669Z",
     "shell.execute_reply": "2022-09-04T09:58:34.121486Z"
    },
    "papermill": {
     "duration": 0.029455,
     "end_time": "2022-09-04T09:58:34.125008",
     "exception": false,
     "start_time": "2022-09-04T09:58:34.095553",
     "status": "completed"
    },
    "tags": []
   },
   "outputs": [
    {
     "ename": "",
     "evalue": "",
     "output_type": "error",
     "traceback": [
      "\u001b[1;31mRunning cells with '/usr/bin/python3' requires the ipykernel package.\n",
      "\u001b[1;31mRun the following command to install 'ipykernel' into the Python environment. \n",
      "\u001b[1;31mCommand: '/usr/bin/python3 -m pip install ipykernel -U --user --force-reinstall'"
     ]
    }
   ],
   "source": [
    "df_test.rename(columns=to_clean, inplace= True)"
   ]
  },
  {
   "cell_type": "code",
   "execution_count": null,
   "id": "aee3cdc8",
   "metadata": {
    "execution": {
     "iopub.execute_input": "2022-09-04T09:58:34.167068Z",
     "iopub.status.busy": "2022-09-04T09:58:34.166639Z",
     "iopub.status.idle": "2022-09-04T09:58:34.180587Z",
     "shell.execute_reply": "2022-09-04T09:58:34.179495Z"
    },
    "papermill": {
     "duration": 0.037592,
     "end_time": "2022-09-04T09:58:34.182822",
     "exception": false,
     "start_time": "2022-09-04T09:58:34.145230",
     "status": "completed"
    },
    "scrolled": true,
    "tags": []
   },
   "outputs": [
    {
     "ename": "",
     "evalue": "",
     "output_type": "error",
     "traceback": [
      "\u001b[1;31mRunning cells with '/usr/bin/python3' requires the ipykernel package.\n",
      "\u001b[1;31mRun the following command to install 'ipykernel' into the Python environment. \n",
      "\u001b[1;31mCommand: '/usr/bin/python3 -m pip install ipykernel -U --user --force-reinstall'"
     ]
    }
   ],
   "source": [
    "df_test.head()"
   ]
  },
  {
   "cell_type": "markdown",
   "id": "6103a8a6",
   "metadata": {
    "papermill": {
     "duration": 0.020139,
     "end_time": "2022-09-04T09:58:34.223491",
     "exception": false,
     "start_time": "2022-09-04T09:58:34.203352",
     "status": "completed"
    },
    "tags": []
   },
   "source": [
    "<br>\n",
    "\n",
    "- ### Assessing Data\n",
    "\n",
    "**C.**Let's find out the number of rows in the both data set."
   ]
  },
  {
   "cell_type": "code",
   "execution_count": null,
   "id": "4c31e2b3",
   "metadata": {
    "execution": {
     "iopub.execute_input": "2022-09-04T09:58:34.265885Z",
     "iopub.status.busy": "2022-09-04T09:58:34.265501Z",
     "iopub.status.idle": "2022-09-04T09:58:34.271705Z",
     "shell.execute_reply": "2022-09-04T09:58:34.270653Z"
    },
    "papermill": {
     "duration": 0.030212,
     "end_time": "2022-09-04T09:58:34.273916",
     "exception": false,
     "start_time": "2022-09-04T09:58:34.243704",
     "status": "completed"
    },
    "scrolled": true,
    "tags": []
   },
   "outputs": [
    {
     "ename": "",
     "evalue": "",
     "output_type": "error",
     "traceback": [
      "\u001b[1;31mRunning cells with '/usr/bin/python3' requires the ipykernel package.\n",
      "\u001b[1;31mRun the following command to install 'ipykernel' into the Python environment. \n",
      "\u001b[1;31mCommand: '/usr/bin/python3 -m pip install ipykernel -U --user --force-reinstall'"
     ]
    }
   ],
   "source": [
    "df_cont.shape"
   ]
  },
  {
   "cell_type": "code",
   "execution_count": null,
   "id": "694e3dff",
   "metadata": {
    "execution": {
     "iopub.execute_input": "2022-09-04T09:58:34.316709Z",
     "iopub.status.busy": "2022-09-04T09:58:34.316305Z",
     "iopub.status.idle": "2022-09-04T09:58:34.323359Z",
     "shell.execute_reply": "2022-09-04T09:58:34.322284Z"
    },
    "papermill": {
     "duration": 0.030886,
     "end_time": "2022-09-04T09:58:34.325475",
     "exception": false,
     "start_time": "2022-09-04T09:58:34.294589",
     "status": "completed"
    },
    "tags": []
   },
   "outputs": [
    {
     "ename": "",
     "evalue": "",
     "output_type": "error",
     "traceback": [
      "\u001b[1;31mRunning cells with '/usr/bin/python3' requires the ipykernel package.\n",
      "\u001b[1;31mRun the following command to install 'ipykernel' into the Python environment. \n",
      "\u001b[1;31mCommand: '/usr/bin/python3 -m pip install ipykernel -U --user --force-reinstall'"
     ]
    }
   ],
   "source": [
    "df_test.shape"
   ]
  },
  {
   "cell_type": "markdown",
   "id": "3071d7e7",
   "metadata": {
    "papermill": {
     "duration": 0.020384,
     "end_time": "2022-09-04T09:58:34.366589",
     "exception": false,
     "start_time": "2022-09-04T09:58:34.346205",
     "status": "completed"
    },
    "tags": []
   },
   "source": [
    "&#9865; **That's great, the data set for each campaign is equal in number**<br><br>\n",
    "\n",
    "**D.** Check the basic information of the both data frame."
   ]
  },
  {
   "cell_type": "code",
   "execution_count": null,
   "id": "e0fdc344",
   "metadata": {
    "execution": {
     "iopub.execute_input": "2022-09-04T09:58:34.410011Z",
     "iopub.status.busy": "2022-09-04T09:58:34.409557Z",
     "iopub.status.idle": "2022-09-04T09:58:34.435636Z",
     "shell.execute_reply": "2022-09-04T09:58:34.434310Z"
    },
    "papermill": {
     "duration": 0.050779,
     "end_time": "2022-09-04T09:58:34.438070",
     "exception": false,
     "start_time": "2022-09-04T09:58:34.387291",
     "status": "completed"
    },
    "scrolled": true,
    "tags": []
   },
   "outputs": [
    {
     "ename": "",
     "evalue": "",
     "output_type": "error",
     "traceback": [
      "\u001b[1;31mRunning cells with '/usr/bin/python3' requires the ipykernel package.\n",
      "\u001b[1;31mRun the following command to install 'ipykernel' into the Python environment. \n",
      "\u001b[1;31mCommand: '/usr/bin/python3 -m pip install ipykernel -U --user --force-reinstall'"
     ]
    }
   ],
   "source": [
    "df_cont.info()"
   ]
  },
  {
   "cell_type": "code",
   "execution_count": null,
   "id": "dad5b574",
   "metadata": {
    "execution": {
     "iopub.execute_input": "2022-09-04T09:58:34.481668Z",
     "iopub.status.busy": "2022-09-04T09:58:34.481237Z",
     "iopub.status.idle": "2022-09-04T09:58:34.495730Z",
     "shell.execute_reply": "2022-09-04T09:58:34.494041Z"
    },
    "papermill": {
     "duration": 0.038695,
     "end_time": "2022-09-04T09:58:34.497864",
     "exception": false,
     "start_time": "2022-09-04T09:58:34.459169",
     "status": "completed"
    },
    "tags": []
   },
   "outputs": [
    {
     "ename": "",
     "evalue": "",
     "output_type": "error",
     "traceback": [
      "\u001b[1;31mRunning cells with '/usr/bin/python3' requires the ipykernel package.\n",
      "\u001b[1;31mRun the following command to install 'ipykernel' into the Python environment. \n",
      "\u001b[1;31mCommand: '/usr/bin/python3 -m pip install ipykernel -U --user --force-reinstall'"
     ]
    }
   ],
   "source": [
    "df_test.info()"
   ]
  },
  {
   "cell_type": "markdown",
   "id": "29612471",
   "metadata": {
    "papermill": {
     "duration": 0.020766,
     "end_time": "2022-09-04T09:58:34.539964",
     "exception": false,
     "start_time": "2022-09-04T09:58:34.519198",
     "status": "completed"
    },
    "tags": []
   },
   "source": [
    "&#9865; **The control data set has null values, and the data type of the columns from impression to purchase is different from the same columns in the test set, we will deal with this later.**<br><br>"
   ]
  },
  {
   "cell_type": "markdown",
   "id": "6e17ea95",
   "metadata": {
    "papermill": {
     "duration": 0.020687,
     "end_time": "2022-09-04T09:58:34.581795",
     "exception": false,
     "start_time": "2022-09-04T09:58:34.561108",
     "status": "completed"
    },
    "tags": []
   },
   "source": [
    "**E.** Let's merge the two sets of data, so that one data set is placed below the other data set, as follows:"
   ]
  },
  {
   "cell_type": "code",
   "execution_count": null,
   "id": "39d55f84",
   "metadata": {
    "execution": {
     "iopub.execute_input": "2022-09-04T09:58:34.626993Z",
     "iopub.status.busy": "2022-09-04T09:58:34.626547Z",
     "iopub.status.idle": "2022-09-04T09:58:34.665008Z",
     "shell.execute_reply": "2022-09-04T09:58:34.664068Z"
    },
    "papermill": {
     "duration": 0.0637,
     "end_time": "2022-09-04T09:58:34.667279",
     "exception": false,
     "start_time": "2022-09-04T09:58:34.603579",
     "status": "completed"
    },
    "scrolled": true,
    "tags": []
   },
   "outputs": [
    {
     "ename": "",
     "evalue": "",
     "output_type": "error",
     "traceback": [
      "\u001b[1;31mRunning cells with '/usr/bin/python3' requires the ipykernel package.\n",
      "\u001b[1;31mRun the following command to install 'ipykernel' into the Python environment. \n",
      "\u001b[1;31mCommand: '/usr/bin/python3 -m pip install ipykernel -U --user --force-reinstall'"
     ]
    }
   ],
   "source": [
    "new_df = df_cont.merge(df_test, how='outer').sort_values(['date']).reset_index(drop= True)\n",
    "new_df.head()"
   ]
  },
  {
   "cell_type": "code",
   "execution_count": null,
   "id": "680c1f6f",
   "metadata": {
    "execution": {
     "iopub.execute_input": "2022-09-04T09:58:34.712665Z",
     "iopub.status.busy": "2022-09-04T09:58:34.711552Z",
     "iopub.status.idle": "2022-09-04T09:58:34.725651Z",
     "shell.execute_reply": "2022-09-04T09:58:34.724353Z"
    },
    "papermill": {
     "duration": 0.040012,
     "end_time": "2022-09-04T09:58:34.728728",
     "exception": false,
     "start_time": "2022-09-04T09:58:34.688716",
     "status": "completed"
    },
    "scrolled": true,
    "tags": []
   },
   "outputs": [
    {
     "ename": "",
     "evalue": "",
     "output_type": "error",
     "traceback": [
      "\u001b[1;31mRunning cells with '/usr/bin/python3' requires the ipykernel package.\n",
      "\u001b[1;31mRun the following command to install 'ipykernel' into the Python environment. \n",
      "\u001b[1;31mCommand: '/usr/bin/python3 -m pip install ipykernel -U --user --force-reinstall'"
     ]
    }
   ],
   "source": [
    "new_df.info()"
   ]
  },
  {
   "cell_type": "markdown",
   "id": "05d4d592",
   "metadata": {
    "papermill": {
     "duration": 0.021451,
     "end_time": "2022-09-04T09:58:34.772316",
     "exception": false,
     "start_time": "2022-09-04T09:58:34.750865",
     "status": "completed"
    },
    "tags": []
   },
   "source": [
    "&#9865; **We now see that the data columns in the test group have also been automatically converted from type int64 to the same data type in the control group after they are included in it.**<br><br>\n"
   ]
  },
  {
   "cell_type": "markdown",
   "id": "9dc771c1",
   "metadata": {
    "papermill": {
     "duration": 0.021099,
     "end_time": "2022-09-04T09:58:34.815212",
     "exception": false,
     "start_time": "2022-09-04T09:58:34.794113",
     "status": "completed"
    },
    "tags": []
   },
   "source": [
    "- ### Data cleaning<br><br>\n",
    "\n",
    "**F.**Now let's also convert the date data type to match it."
   ]
  },
  {
   "cell_type": "code",
   "execution_count": null,
   "id": "2e990916",
   "metadata": {
    "execution": {
     "iopub.execute_input": "2022-09-04T09:58:34.860029Z",
     "iopub.status.busy": "2022-09-04T09:58:34.859606Z",
     "iopub.status.idle": "2022-09-04T09:58:34.872403Z",
     "shell.execute_reply": "2022-09-04T09:58:34.871357Z"
    },
    "papermill": {
     "duration": 0.038269,
     "end_time": "2022-09-04T09:58:34.874966",
     "exception": false,
     "start_time": "2022-09-04T09:58:34.836697",
     "status": "completed"
    },
    "tags": []
   },
   "outputs": [
    {
     "ename": "",
     "evalue": "",
     "output_type": "error",
     "traceback": [
      "\u001b[1;31mRunning cells with '/usr/bin/python3' requires the ipykernel package.\n",
      "\u001b[1;31mRun the following command to install 'ipykernel' into the Python environment. \n",
      "\u001b[1;31mCommand: '/usr/bin/python3 -m pip install ipykernel -U --user --force-reinstall'"
     ]
    }
   ],
   "source": [
    "new_df['date']= pd.to_datetime(new_df['date'])"
   ]
  },
  {
   "cell_type": "code",
   "execution_count": null,
   "id": "d7392d89",
   "metadata": {
    "execution": {
     "iopub.execute_input": "2022-09-04T09:58:34.921886Z",
     "iopub.status.busy": "2022-09-04T09:58:34.921093Z",
     "iopub.status.idle": "2022-09-04T09:58:34.940288Z",
     "shell.execute_reply": "2022-09-04T09:58:34.939060Z"
    },
    "papermill": {
     "duration": 0.045161,
     "end_time": "2022-09-04T09:58:34.942732",
     "exception": false,
     "start_time": "2022-09-04T09:58:34.897571",
     "status": "completed"
    },
    "tags": []
   },
   "outputs": [
    {
     "ename": "",
     "evalue": "",
     "output_type": "error",
     "traceback": [
      "\u001b[1;31mRunning cells with '/usr/bin/python3' requires the ipykernel package.\n",
      "\u001b[1;31mRun the following command to install 'ipykernel' into the Python environment. \n",
      "\u001b[1;31mCommand: '/usr/bin/python3 -m pip install ipykernel -U --user --force-reinstall'"
     ]
    }
   ],
   "source": [
    "new_df.head()"
   ]
  },
  {
   "cell_type": "code",
   "execution_count": null,
   "id": "e1608f8c",
   "metadata": {
    "execution": {
     "iopub.execute_input": "2022-09-04T09:58:34.990240Z",
     "iopub.status.busy": "2022-09-04T09:58:34.988871Z",
     "iopub.status.idle": "2022-09-04T09:58:35.013246Z",
     "shell.execute_reply": "2022-09-04T09:58:35.011850Z"
    },
    "papermill": {
     "duration": 0.050799,
     "end_time": "2022-09-04T09:58:35.016392",
     "exception": false,
     "start_time": "2022-09-04T09:58:34.965593",
     "status": "completed"
    },
    "scrolled": true,
    "tags": []
   },
   "outputs": [
    {
     "ename": "",
     "evalue": "",
     "output_type": "error",
     "traceback": [
      "\u001b[1;31mRunning cells with '/usr/bin/python3' requires the ipykernel package.\n",
      "\u001b[1;31mRun the following command to install 'ipykernel' into the Python environment. \n",
      "\u001b[1;31mCommand: '/usr/bin/python3 -m pip install ipykernel -U --user --force-reinstall'"
     ]
    }
   ],
   "source": [
    "new_df.tail()"
   ]
  },
  {
   "cell_type": "markdown",
   "id": "a83d83e8",
   "metadata": {
    "papermill": {
     "duration": 0.030745,
     "end_time": "2022-09-04T09:58:35.076041",
     "exception": false,
     "start_time": "2022-09-04T09:58:35.045296",
     "status": "completed"
    },
    "tags": []
   },
   "source": [
    "**G.** Let's check find there are duplicates in the data set"
   ]
  },
  {
   "cell_type": "code",
   "execution_count": null,
   "id": "245d7f46",
   "metadata": {
    "execution": {
     "iopub.execute_input": "2022-09-04T09:58:35.127203Z",
     "iopub.status.busy": "2022-09-04T09:58:35.126344Z",
     "iopub.status.idle": "2022-09-04T09:58:35.138169Z",
     "shell.execute_reply": "2022-09-04T09:58:35.137013Z"
    },
    "papermill": {
     "duration": 0.038335,
     "end_time": "2022-09-04T09:58:35.140577",
     "exception": false,
     "start_time": "2022-09-04T09:58:35.102242",
     "status": "completed"
    },
    "scrolled": true,
    "tags": []
   },
   "outputs": [
    {
     "ename": "",
     "evalue": "",
     "output_type": "error",
     "traceback": [
      "\u001b[1;31mRunning cells with '/usr/bin/python3' requires the ipykernel package.\n",
      "\u001b[1;31mRun the following command to install 'ipykernel' into the Python environment. \n",
      "\u001b[1;31mCommand: '/usr/bin/python3 -m pip install ipykernel -U --user --force-reinstall'"
     ]
    }
   ],
   "source": [
    "new_df.duplicated().sum()"
   ]
  },
  {
   "cell_type": "markdown",
   "id": "63172d58",
   "metadata": {
    "papermill": {
     "duration": 0.021913,
     "end_time": "2022-09-04T09:58:35.184863",
     "exception": false,
     "start_time": "2022-09-04T09:58:35.162950",
     "status": "completed"
    },
    "tags": []
   },
   "source": [
    "&#9865; **Great, there are no duplicates in the data set.**\n",
    "\n",
    "**H.** Now let's explore nulls to work with them."
   ]
  },
  {
   "cell_type": "code",
   "execution_count": null,
   "id": "c93b3508",
   "metadata": {
    "execution": {
     "iopub.execute_input": "2022-09-04T09:58:35.231436Z",
     "iopub.status.busy": "2022-09-04T09:58:35.231022Z",
     "iopub.status.idle": "2022-09-04T09:58:35.240447Z",
     "shell.execute_reply": "2022-09-04T09:58:35.238994Z"
    },
    "papermill": {
     "duration": 0.035456,
     "end_time": "2022-09-04T09:58:35.242801",
     "exception": false,
     "start_time": "2022-09-04T09:58:35.207345",
     "status": "completed"
    },
    "tags": []
   },
   "outputs": [
    {
     "ename": "",
     "evalue": "",
     "output_type": "error",
     "traceback": [
      "\u001b[1;31mRunning cells with '/usr/bin/python3' requires the ipykernel package.\n",
      "\u001b[1;31mRun the following command to install 'ipykernel' into the Python environment. \n",
      "\u001b[1;31mCommand: '/usr/bin/python3 -m pip install ipykernel -U --user --force-reinstall'"
     ]
    }
   ],
   "source": [
    "new_df.isnull().sum()"
   ]
  },
  {
   "cell_type": "code",
   "execution_count": null,
   "id": "e6f6c3e4",
   "metadata": {
    "execution": {
     "iopub.execute_input": "2022-09-04T09:58:35.289679Z",
     "iopub.status.busy": "2022-09-04T09:58:35.289240Z",
     "iopub.status.idle": "2022-09-04T09:58:35.307390Z",
     "shell.execute_reply": "2022-09-04T09:58:35.306277Z"
    },
    "papermill": {
     "duration": 0.044446,
     "end_time": "2022-09-04T09:58:35.309836",
     "exception": false,
     "start_time": "2022-09-04T09:58:35.265390",
     "status": "completed"
    },
    "scrolled": true,
    "tags": []
   },
   "outputs": [
    {
     "ename": "",
     "evalue": "",
     "output_type": "error",
     "traceback": [
      "\u001b[1;31mRunning cells with '/usr/bin/python3' requires the ipykernel package.\n",
      "\u001b[1;31mRun the following command to install 'ipykernel' into the Python environment. \n",
      "\u001b[1;31mCommand: '/usr/bin/python3 -m pip install ipykernel -U --user --force-reinstall'"
     ]
    }
   ],
   "source": [
    "new_df[new_df.isnull().any(axis= 1)]"
   ]
  },
  {
   "cell_type": "markdown",
   "id": "2f3175bb",
   "metadata": {
    "papermill": {
     "duration": 0.022274,
     "end_time": "2022-09-04T09:58:35.355531",
     "exception": false,
     "start_time": "2022-09-04T09:58:35.333257",
     "status": "completed"
    },
    "tags": []
   },
   "source": [
    "&#9865; **As we can see that all null values cells are in the same row, so we will dispense with it and do a projection for it.**<br><br>\n"
   ]
  },
  {
   "cell_type": "code",
   "execution_count": null,
   "id": "fdffcb45",
   "metadata": {
    "execution": {
     "iopub.execute_input": "2022-09-04T09:58:35.402922Z",
     "iopub.status.busy": "2022-09-04T09:58:35.402506Z",
     "iopub.status.idle": "2022-09-04T09:58:35.410130Z",
     "shell.execute_reply": "2022-09-04T09:58:35.409027Z"
    },
    "papermill": {
     "duration": 0.034038,
     "end_time": "2022-09-04T09:58:35.412342",
     "exception": false,
     "start_time": "2022-09-04T09:58:35.378304",
     "status": "completed"
    },
    "tags": []
   },
   "outputs": [
    {
     "ename": "",
     "evalue": "",
     "output_type": "error",
     "traceback": [
      "\u001b[1;31mRunning cells with '/usr/bin/python3' requires the ipykernel package.\n",
      "\u001b[1;31mRun the following command to install 'ipykernel' into the Python environment. \n",
      "\u001b[1;31mCommand: '/usr/bin/python3 -m pip install ipykernel -U --user --force-reinstall'"
     ]
    }
   ],
   "source": [
    "new_df.dropna(inplace= True)"
   ]
  },
  {
   "cell_type": "code",
   "execution_count": null,
   "id": "0b4e1b22",
   "metadata": {
    "execution": {
     "iopub.execute_input": "2022-09-04T09:58:35.459553Z",
     "iopub.status.busy": "2022-09-04T09:58:35.459148Z",
     "iopub.status.idle": "2022-09-04T09:58:35.467739Z",
     "shell.execute_reply": "2022-09-04T09:58:35.466630Z"
    },
    "papermill": {
     "duration": 0.034766,
     "end_time": "2022-09-04T09:58:35.469792",
     "exception": false,
     "start_time": "2022-09-04T09:58:35.435026",
     "status": "completed"
    },
    "scrolled": true,
    "tags": []
   },
   "outputs": [
    {
     "ename": "",
     "evalue": "",
     "output_type": "error",
     "traceback": [
      "\u001b[1;31mRunning cells with '/usr/bin/python3' requires the ipykernel package.\n",
      "\u001b[1;31mRun the following command to install 'ipykernel' into the Python environment. \n",
      "\u001b[1;31mCommand: '/usr/bin/python3 -m pip install ipykernel -U --user --force-reinstall'"
     ]
    }
   ],
   "source": [
    "new_df.isnull().any().sum()"
   ]
  },
  {
   "cell_type": "markdown",
   "id": "62eb33e8",
   "metadata": {
    "papermill": {
     "duration": 0.022427,
     "end_time": "2022-09-04T09:58:35.514961",
     "exception": false,
     "start_time": "2022-09-04T09:58:35.492534",
     "status": "completed"
    },
    "tags": []
   },
   "source": [
    "================================================================================================================="
   ]
  },
  {
   "cell_type": "markdown",
   "id": "71d869f4",
   "metadata": {
    "papermill": {
     "duration": 0.022462,
     "end_time": "2022-09-04T09:58:35.560199",
     "exception": false,
     "start_time": "2022-09-04T09:58:35.537737",
     "status": "completed"
    },
    "tags": []
   },
   "source": [
    "<a id='EDA&prob'></a>\n",
    "## Part II - Exploratory Data Analysis(EDA) & Probability\n",
    "#### Now we will explore the new_df dataset to answer the following questions:<br><br>\n",
    "\n",
    "**A.** What is the total number of each campaign?"
   ]
  },
  {
   "cell_type": "code",
   "execution_count": null,
   "id": "627974cf",
   "metadata": {
    "execution": {
     "iopub.execute_input": "2022-09-04T09:58:35.607615Z",
     "iopub.status.busy": "2022-09-04T09:58:35.607232Z",
     "iopub.status.idle": "2022-09-04T09:58:35.616323Z",
     "shell.execute_reply": "2022-09-04T09:58:35.615227Z"
    },
    "papermill": {
     "duration": 0.035674,
     "end_time": "2022-09-04T09:58:35.618534",
     "exception": false,
     "start_time": "2022-09-04T09:58:35.582860",
     "status": "completed"
    },
    "scrolled": true,
    "tags": []
   },
   "outputs": [
    {
     "ename": "",
     "evalue": "",
     "output_type": "error",
     "traceback": [
      "\u001b[1;31mRunning cells with '/usr/bin/python3' requires the ipykernel package.\n",
      "\u001b[1;31mRun the following command to install 'ipykernel' into the Python environment. \n",
      "\u001b[1;31mCommand: '/usr/bin/python3 -m pip install ipykernel -U --user --force-reinstall'"
     ]
    }
   ],
   "source": [
    "new_df.groupby([\"campaign_name\"])[\"campaign_name\"].count()"
   ]
  },
  {
   "cell_type": "code",
   "execution_count": null,
   "id": "749b9129",
   "metadata": {
    "execution": {
     "iopub.execute_input": "2022-09-04T09:58:35.666944Z",
     "iopub.status.busy": "2022-09-04T09:58:35.666160Z",
     "iopub.status.idle": "2022-09-04T09:58:36.066429Z",
     "shell.execute_reply": "2022-09-04T09:58:36.065174Z"
    },
    "papermill": {
     "duration": 0.427268,
     "end_time": "2022-09-04T09:58:36.069112",
     "exception": false,
     "start_time": "2022-09-04T09:58:35.641844",
     "status": "completed"
    },
    "tags": []
   },
   "outputs": [
    {
     "ename": "",
     "evalue": "",
     "output_type": "error",
     "traceback": [
      "\u001b[1;31mRunning cells with '/usr/bin/python3' requires the ipykernel package.\n",
      "\u001b[1;31mRun the following command to install 'ipykernel' into the Python environment. \n",
      "\u001b[1;31mCommand: '/usr/bin/python3 -m pip install ipykernel -U --user --force-reinstall'"
     ]
    }
   ],
   "source": [
    "sns.set_style(\"white\")\n",
    "\n",
    "fig, ax = plt.subplots(1,2, figsize=(16,5), sharex=False)\n",
    "c = sns.color_palette([\"royalblue\", \"darkorange\"], 2)\n",
    "\n",
    "\n",
    "campaign= new_df.groupby([\"campaign_name\"])[\"campaign_name\"].count()\n",
    "\n",
    "\n",
    "campaign.plot(kind=\"bar\",\n",
    "                    rot = 0,\n",
    "                    width = 0.93,\n",
    "                    alpha = 1,\n",
    "                    fontsize = 12,\n",
    "                    color=c, ax=ax[0])\n",
    "\n",
    "for i, g in enumerate(campaign):\n",
    "    ax[0].text(i, g - 15, \"{:0,.0f}\".format(g), color='white',\n",
    "               fontsize=19, fontweight=\"bold\", ha=\"center\", va='center')\n",
    "    \n",
    "\n",
    "ax[0].set_title(\"Total Number Per Campaign\", fontsize=18, color=\"k\", pad=38)\n",
    "ax[0].set_xlabel('')\n",
    "ax[0].set_xticklabels( labels=[\"Control\", \"Test\"], fontsize=14)\n",
    "ax[0].set_yticks([])\n",
    "sns.despine(left=True);\n",
    "\n",
    "\n",
    "\n",
    "ax[1].pie(campaign, autopct='%1.1f%%', textprops={'fontsize': 19},explode = (0, 0.07))\n",
    "ax[1].set_title(\"Percentage Per Campaign\",fontsize=18, pad=38, color=\"k\")\n",
    "ax[1].legend(fontsize=13, labels=[ \"Control\",\"Test\"],bbox_to_anchor=(1.3, 1));\n",
    "\n"
   ]
  },
  {
   "cell_type": "markdown",
   "id": "3286256d",
   "metadata": {
    "papermill": {
     "duration": 0.023433,
     "end_time": "2022-09-04T09:58:36.116593",
     "exception": false,
     "start_time": "2022-09-04T09:58:36.093160",
     "status": "completed"
    },
    "tags": []
   },
   "source": [
    "####  Based on these previous results, we find that:\n",
    "\n",
    "- We see the difference between the two campaigns is very small and almost negligible, this can be deceptive, because it suggests that if we do A/B testing there will be no bias in one campaign over another.<br><br>\n",
    "\n",
    "- But what interests us more precisely here is the amount of unique individual views for each campaign, so let's explore that.<br><br>\n",
    "\n",
    "**B.** What is the total number for reach of each campaign?"
   ]
  },
  {
   "cell_type": "code",
   "execution_count": null,
   "id": "44675830",
   "metadata": {
    "execution": {
     "iopub.execute_input": "2022-09-04T09:58:36.166725Z",
     "iopub.status.busy": "2022-09-04T09:58:36.165544Z",
     "iopub.status.idle": "2022-09-04T09:58:36.176103Z",
     "shell.execute_reply": "2022-09-04T09:58:36.175005Z"
    },
    "papermill": {
     "duration": 0.037772,
     "end_time": "2022-09-04T09:58:36.178291",
     "exception": false,
     "start_time": "2022-09-04T09:58:36.140519",
     "status": "completed"
    },
    "scrolled": true,
    "tags": []
   },
   "outputs": [
    {
     "ename": "",
     "evalue": "",
     "output_type": "error",
     "traceback": [
      "\u001b[1;31mRunning cells with '/usr/bin/python3' requires the ipykernel package.\n",
      "\u001b[1;31mRun the following command to install 'ipykernel' into the Python environment. \n",
      "\u001b[1;31mCommand: '/usr/bin/python3 -m pip install ipykernel -U --user --force-reinstall'"
     ]
    }
   ],
   "source": [
    "new_df.groupby([\"campaign_name\"])[\"reach\"].sum()"
   ]
  },
  {
   "cell_type": "code",
   "execution_count": null,
   "id": "f54e97cc",
   "metadata": {
    "execution": {
     "iopub.execute_input": "2022-09-04T09:58:36.228932Z",
     "iopub.status.busy": "2022-09-04T09:58:36.227742Z",
     "iopub.status.idle": "2022-09-04T09:58:36.546759Z",
     "shell.execute_reply": "2022-09-04T09:58:36.545648Z"
    },
    "papermill": {
     "duration": 0.347227,
     "end_time": "2022-09-04T09:58:36.549404",
     "exception": false,
     "start_time": "2022-09-04T09:58:36.202177",
     "status": "completed"
    },
    "tags": []
   },
   "outputs": [
    {
     "ename": "",
     "evalue": "",
     "output_type": "error",
     "traceback": [
      "\u001b[1;31mRunning cells with '/usr/bin/python3' requires the ipykernel package.\n",
      "\u001b[1;31mRun the following command to install 'ipykernel' into the Python environment. \n",
      "\u001b[1;31mCommand: '/usr/bin/python3 -m pip install ipykernel -U --user --force-reinstall'"
     ]
    }
   ],
   "source": [
    "sns.set_style(\"white\")\n",
    "\n",
    "fig, ax = plt.subplots(1,2, figsize=(16,5), sharex=False)\n",
    "c = sns.color_palette([\"royalblue\", \"darkorange\"], 2)\n",
    "\n",
    "\n",
    "campaign2= new_df.groupby([\"campaign_name\"])[\"reach\"].sum()\n",
    "\n",
    "\n",
    "campaign2.plot(kind=\"bar\",\n",
    "                    rot = 0,\n",
    "                    width = 0.93,\n",
    "                    alpha = 1,\n",
    "                    fontsize = 12,\n",
    "                    color=c, ax=ax[0])\n",
    "\n",
    "for i, g in enumerate(campaign2):\n",
    "    ax[0].text(i, g - 1000000, \"{:0,.0f}\".format(g), color='white',\n",
    "               fontsize=19, fontweight=\"bold\", ha=\"center\", va='center')\n",
    "    \n",
    "\n",
    "ax[0].set_title(\"Total Numbers of Reach Per Campaign \", fontsize=18, color=\"k\", pad=38)\n",
    "ax[0].set_xlabel('')\n",
    "ax[0].set_xticklabels( labels=[\"Control\", \"Test\"], fontsize=14)\n",
    "ax[0].set_yticks([])\n",
    "sns.despine(left=True);\n",
    "\n",
    "\n",
    "\n",
    "ax[1].pie(campaign2, autopct='%1.1f%%', textprops={'fontsize': 19},explode = (0, 0.07))\n",
    "ax[1].set_title(\"Percentage of Reach Per Campaign\",fontsize=18, pad=38, color=\"k\")\n",
    "ax[1].legend(fontsize=13, labels=[ \"Control\",\"Test\"],bbox_to_anchor=(1.3, 1));\n"
   ]
  },
  {
   "cell_type": "markdown",
   "id": "57ead097",
   "metadata": {
    "papermill": {
     "duration": 0.024058,
     "end_time": "2022-09-04T09:58:36.598142",
     "exception": false,
     "start_time": "2022-09-04T09:58:36.574084",
     "status": "completed"
    },
    "tags": []
   },
   "source": [
    "- We now see that the rate and number of unique observations in the control is almost twice the rate and the number of observations in the test, which is very likely to result in a bias in the results when we do A / B tests.<br><br>\n",
    "\n",
    "**C.** Now let's review the click-through rate (CTR) for each campaign."
   ]
  },
  {
   "cell_type": "code",
   "execution_count": null,
   "id": "4a1dc493",
   "metadata": {
    "execution": {
     "iopub.execute_input": "2022-09-04T09:58:36.649773Z",
     "iopub.status.busy": "2022-09-04T09:58:36.649350Z",
     "iopub.status.idle": "2022-09-04T09:58:37.344453Z",
     "shell.execute_reply": "2022-09-04T09:58:37.343325Z"
    },
    "papermill": {
     "duration": 0.723532,
     "end_time": "2022-09-04T09:58:37.346769",
     "exception": false,
     "start_time": "2022-09-04T09:58:36.623237",
     "status": "completed"
    },
    "scrolled": true,
    "tags": []
   },
   "outputs": [
    {
     "ename": "",
     "evalue": "",
     "output_type": "error",
     "traceback": [
      "\u001b[1;31mRunning cells with '/usr/bin/python3' requires the ipykernel package.\n",
      "\u001b[1;31mRun the following command to install 'ipykernel' into the Python environment. \n",
      "\u001b[1;31mCommand: '/usr/bin/python3 -m pip install ipykernel -U --user --force-reinstall'"
     ]
    }
   ],
   "source": [
    "sns.set_style(\"whitegrid\")\n",
    "fig, ax = plt.subplots(1,3, figsize=(16,4), sharex=False)\n",
    "\n",
    "\n",
    "sns.ecdfplot(x=\"reach\",\n",
    "             data=new_df,\n",
    "             hue=\"campaign_name\",\n",
    "             palette=\"deep\", ax=ax[0])\n",
    "\n",
    "\n",
    "ax[0].set_title(\"ECDF for The Number of Campaign Reach\", fontsize=14, color=\"k\", pad=20)\n",
    "ax[0].set_xlabel(\"Reach Number\", fontsize=15)\n",
    "ax[0].set_ylabel(\"ECDF\", fontsize=15, color=\"k\")\n",
    "\n",
    "\n",
    "\n",
    "sns.ecdfplot(x=\"website_clicks\",\n",
    "             data=new_df,\n",
    "             hue=\"campaign_name\",\n",
    "             palette=\"deep\", ax=ax[1])\n",
    "\n",
    "ax[1].set_title(\"ECDF for The Number of Campaign Clicks\", fontsize=14, color=\"k\", pad=20)\n",
    "ax[1].set_xlabel(\"Website Clicks Number\", fontsize=15)\n",
    "ax[1].set_ylabel(\"ECDF\", fontsize=15, color=\"k\")\n",
    "\n",
    "\n",
    "sns.set_style(\"white\")\n",
    "\n",
    "CTR = new_df.groupby([\"campaign_name\"])[\"website_clicks\"].sum()/new_df.groupby([\"campaign_name\"])[\"reach\"].sum()*100\n",
    "\n",
    "CTR.plot(kind=\"bar\",\n",
    "                    rot = 0,\n",
    "                    width = 0.80,\n",
    "                    alpha = 0.9,\n",
    "                    fontsize = 12,\n",
    "                    color=c, ax=ax[2])\n",
    "\n",
    "\n",
    "for i, g in enumerate(CTR):\n",
    "    ax[2].text(i, g - 3, \"{0:.{digits}f}%\".format(g, digits=2), color='white',\n",
    "               fontsize=19, fontweight=\"bold\", ha=\"center\", va='center')\n",
    "    \n",
    "\n",
    "ax[2].set_title(\"CTR per campaign\", fontsize=14, color=\"k\", pad=20)\n",
    "ax[2].set_xlabel(\"Campaign Name\", fontsize=12, fontweight=\"bold\")\n",
    "ax[2].set_ylabel(\"CTR\", fontsize=15, color=\"k\")\n",
    "ax[2].set_xticklabels( labels=[\"Control\", \"Test\"], fontsize=14);"
   ]
  },
  {
   "cell_type": "markdown",
   "id": "8ce6903f",
   "metadata": {
    "papermill": {
     "duration": 0.040395,
     "end_time": "2022-09-04T09:58:37.413421",
     "exception": false,
     "start_time": "2022-09-04T09:58:37.373026",
     "status": "completed"
    },
    "tags": []
   },
   "source": [
    "- First, we see that the cumulative distribution of reach for the control is 90% greater than the cumulative distribution of the test.<br><br>\n",
    "\n",
    "- Second, the cumulative click distribution of the control at 90% is almost equal to the cumulative distribution of the test item at the same level.<br><br>\n",
    "\n",
    "- Third, unlike before, when we extracted that the rate of unique views in the control is greater than the test, we divided the number of clicks from them to extract the so-called click-through rate, we found that the click-through rate of the test became significantly greater than the control, and this indicates that There is a high probability that the number of individuals who clicked on the site link on the test  is significantly greater than the control, even though the control views are greater than the test.<br><br>\n",
    "\n",
    "**D.** Now let's make a display of the cumulative distribution of the other columns."
   ]
  },
  {
   "cell_type": "code",
   "execution_count": null,
   "id": "3f5343e0",
   "metadata": {
    "execution": {
     "iopub.execute_input": "2022-09-04T09:58:37.467408Z",
     "iopub.status.busy": "2022-09-04T09:58:37.466673Z",
     "iopub.status.idle": "2022-09-04T09:58:38.797283Z",
     "shell.execute_reply": "2022-09-04T09:58:38.795903Z"
    },
    "papermill": {
     "duration": 1.360568,
     "end_time": "2022-09-04T09:58:38.800226",
     "exception": false,
     "start_time": "2022-09-04T09:58:37.439658",
     "status": "completed"
    },
    "tags": []
   },
   "outputs": [
    {
     "ename": "",
     "evalue": "",
     "output_type": "error",
     "traceback": [
      "\u001b[1;31mRunning cells with '/usr/bin/python3' requires the ipykernel package.\n",
      "\u001b[1;31mRun the following command to install 'ipykernel' into the Python environment. \n",
      "\u001b[1;31mCommand: '/usr/bin/python3 -m pip install ipykernel -U --user --force-reinstall'"
     ]
    }
   ],
   "source": [
    "sns.set_style(\"whitegrid\")\n",
    "fig, ax = plt.subplots(2,3, figsize=(18,10), sharex=False)\n",
    "\n",
    "r=0\n",
    "c=0\n",
    "\n",
    "\n",
    "campaign_col= {'Spend $':'spend_usd', \n",
    "               'Searches':'searches', \n",
    "               'View Content':'view_content', \n",
    "               'Add To Cart':'add_to_cart',\n",
    "               'Purchase':'purchase'}\n",
    "\n",
    "for col in campaign_col:\n",
    "    name = campaign_col[col]\n",
    "    sns.ecdfplot(x= name,\n",
    "                 data= new_df,\n",
    "                 hue= \"campaign_name\", palette= \"deep\", ax=ax[r,c])\n",
    "    \n",
    "    ax[r,c].set_title(\"ECDF for The {}\".format(col), fontsize=14, color=\"k\", pad=20)\n",
    "    ax[r,c].set_xlabel(col, fontsize=15, labelpad=15)\n",
    "    ax[r,c].set_ylabel(\"\")\n",
    "    if c>=2:\n",
    "        r+=1\n",
    "        c=-1\n",
    "    c+=1\n",
    "    \n",
    "plt.subplots_adjust(hspace = 0.6, wspace=0.2)\n",
    "fig.supylabel('ECDF', fontsize=25, color=\"k\", x= 0.08);\n",
    "\n",
    "ax[1,2].set_yticks([])\n",
    "ax[1,2].set_xticks([])\n",
    "sns.despine(bottom=True, top=True, left=True, right=True, trim=True, ax=ax[1,2])"
   ]
  },
  {
   "cell_type": "markdown",
   "id": "c88fd391",
   "metadata": {
    "papermill": {
     "duration": 0.026171,
     "end_time": "2022-09-04T09:58:38.853059",
     "exception": false,
     "start_time": "2022-09-04T09:58:38.826888",
     "status": "completed"
    },
    "tags": []
   },
   "source": [
    "- The cumulative distribution of spending by about 98% is equal in both groups.\n",
    "- The cumulative distribution of the number of searchers is about 95% significantly greater in the control group than in the test group.\n",
    "- The cumulative distribution of the number of people viewing the content was about 95% significantly greater in the control group.\n",
    "- The cumulative distribution of people who added to the basket was about 95% significantly greater in the control group.\n",
    "- The cumulative distribution of people who made purchases was about 90% equal in the two groups, but about 95% was slightly greater in the test group.<br><br>\n",
    "\n",
    "**E.** Now let's extract a statistical summary for each category based on the group"
   ]
  },
  {
   "cell_type": "code",
   "execution_count": null,
   "id": "a135edb1",
   "metadata": {
    "execution": {
     "iopub.execute_input": "2022-09-04T09:58:38.908322Z",
     "iopub.status.busy": "2022-09-04T09:58:38.907882Z",
     "iopub.status.idle": "2022-09-04T09:58:40.124963Z",
     "shell.execute_reply": "2022-09-04T09:58:40.123870Z"
    },
    "papermill": {
     "duration": 1.248342,
     "end_time": "2022-09-04T09:58:40.127942",
     "exception": false,
     "start_time": "2022-09-04T09:58:38.879600",
     "status": "completed"
    },
    "tags": []
   },
   "outputs": [
    {
     "ename": "",
     "evalue": "",
     "output_type": "error",
     "traceback": [
      "\u001b[1;31mRunning cells with '/usr/bin/python3' requires the ipykernel package.\n",
      "\u001b[1;31mRun the following command to install 'ipykernel' into the Python environment. \n",
      "\u001b[1;31mCommand: '/usr/bin/python3 -m pip install ipykernel -U --user --force-reinstall'"
     ]
    }
   ],
   "source": [
    "fig, ax = plt.subplots(2,4, figsize=(18,10), sharex=False)\n",
    "\n",
    "cols= new_df.columns[np.r_[2,4:10]]\n",
    "\n",
    "r=0\n",
    "c=0\n",
    "\n",
    "for col in cols:\n",
    "    sns.boxplot(x= 'campaign_name',\n",
    "                y= col,\n",
    "                data= new_df,\n",
    "                palette=\"viridis\", ax=ax[r,c])\n",
    "    ax[r,c].set_title(col, fontsize=18, color=\"k\", pad=20)\n",
    "    ax[r,c].set_xlabel('')\n",
    "    ax[r,c].set_ylabel('')\n",
    "    ax[r,c].set_xticklabels( labels=[\"Control\", \"Test\"], fontsize=14)\n",
    "    \n",
    "    \n",
    "    if c>=3:\n",
    "        r+=1\n",
    "        c=-1\n",
    "    c+=1\n",
    "\n",
    "plt.subplots_adjust(hspace = 0.6, wspace=0.2)\n",
    "fig.suptitle(\"Summary Statistics For Each Category Based On The Campaign\", fontsize=25, color=\"k\", y=1.02)\n",
    "\n",
    "ax[1,3].set_yticks([])\n",
    "ax[1,3].set_xticks([])\n",
    "sns.despine(bottom=True, top=True, left=True, right=True, trim=True, ax=ax[1,3])"
   ]
  },
  {
   "cell_type": "markdown",
   "id": "d3811f50",
   "metadata": {
    "papermill": {
     "duration": 0.02849,
     "end_time": "2022-09-04T09:58:40.185917",
     "exception": false,
     "start_time": "2022-09-04T09:58:40.157427",
     "status": "completed"
    },
    "tags": []
   },
   "source": [
    "- spend_usd: We find that the minimum amount of spending for the test group is somewhat greater than that of the control group, as well as the maximum, but to a lesser extent, and that more than 75% of the amount of spending for the test group is greater than 50% of the amount of spending for the control group.<br><br>\n",
    "\n",
    "- reach: We found that the minimum of unique observations in the control group is significantly greater than the minimum in the test, as it is close to the 50% level of viewing in the test, and the maximum in the control is greater than the maximum in the test with a difference of about 10%.<br><br>\n",
    "\n",
    "- website_click: Here we found the opposite that the minimum number of clicks in the control group is smaller than the minimum in the test group by a difference of about 10%, and that 50% of the number of clicks in the test is greater than 50% in the control, and the maximum in the test from the maximum in the control With a very small difference, which explains why the test group's CTR score is greater than the control.<br><br>\n",
    "\n",
    "- searche: Although the minimum number of searches for the test group is greater than the 25% level of the number of research for the control, but we find that the total spread of data for the control is much greater than the test.<br><br>\n",
    "\n",
    "- view_content: We find that the minimum and the first, second and third quartile levels of the view content numbers for both groups are very close, but the maximum for the control group was greater than the test with a difference of about 10%.\n",
    "\n",
    "- add_to_cart: We found here that the minimum number of people who added to cart in the control group is greater than the minimum in the test, and that 25% of the number of people who added to cart  in the control group is greater than the maximum in the test.<br><br>\n",
    "\n",
    "- purchase: Here the opposite happened a little, although the minimum and average number of purchases in the two groups are almost close, but that 25% of the maximum number of purchases in the control group is greater than 25% in the test group.<br><br>\n",
    "\n",
    "\n",
    "**E.** Let's do a time series comparison of the spend vs. click-through rate of the two groups."
   ]
  },
  {
   "cell_type": "code",
   "execution_count": null,
   "id": "950cf28b",
   "metadata": {
    "execution": {
     "iopub.execute_input": "2022-09-04T09:58:40.244573Z",
     "iopub.status.busy": "2022-09-04T09:58:40.243827Z",
     "iopub.status.idle": "2022-09-04T09:58:40.249158Z",
     "shell.execute_reply": "2022-09-04T09:58:40.248362Z"
    },
    "papermill": {
     "duration": 0.036712,
     "end_time": "2022-09-04T09:58:40.251231",
     "exception": false,
     "start_time": "2022-09-04T09:58:40.214519",
     "status": "completed"
    },
    "tags": []
   },
   "outputs": [
    {
     "ename": "",
     "evalue": "",
     "output_type": "error",
     "traceback": [
      "\u001b[1;31mRunning cells with '/usr/bin/python3' requires the ipykernel package.\n",
      "\u001b[1;31mRun the following command to install 'ipykernel' into the Python environment. \n",
      "\u001b[1;31mCommand: '/usr/bin/python3 -m pip install ipykernel -U --user --force-reinstall'"
     ]
    }
   ],
   "source": [
    "new_df['ctr']= new_df[\"website_clicks\"]/new_df[\"reach\"]"
   ]
  },
  {
   "cell_type": "code",
   "execution_count": null,
   "id": "50fa8ee5",
   "metadata": {
    "execution": {
     "iopub.execute_input": "2022-09-04T09:58:40.309159Z",
     "iopub.status.busy": "2022-09-04T09:58:40.308411Z",
     "iopub.status.idle": "2022-09-04T09:58:41.072356Z",
     "shell.execute_reply": "2022-09-04T09:58:41.071084Z"
    },
    "papermill": {
     "duration": 0.796762,
     "end_time": "2022-09-04T09:58:41.075892",
     "exception": false,
     "start_time": "2022-09-04T09:58:40.279130",
     "status": "completed"
    },
    "tags": []
   },
   "outputs": [
    {
     "ename": "",
     "evalue": "",
     "output_type": "error",
     "traceback": [
      "\u001b[1;31mRunning cells with '/usr/bin/python3' requires the ipykernel package.\n",
      "\u001b[1;31mRun the following command to install 'ipykernel' into the Python environment. \n",
      "\u001b[1;31mCommand: '/usr/bin/python3 -m pip install ipykernel -U --user --force-reinstall'"
     ]
    }
   ],
   "source": [
    "sns.set_style(\"whitegrid\")\n",
    "fig,ax = plt.subplots(2,1,figsize=(15,13))\n",
    "\n",
    "ctr_total= new_df.groupby([\"campaign_name\",'date'])[\"ctr\"].sum()\n",
    "spend_total=new_df.groupby([\"campaign_name\",'date'])[\"spend_usd\"].sum()\n",
    "\n",
    "\n",
    "ctr_total['Control Campaign'].plot(marker=\"o\", ls='-',markersize=7,\n",
    "                                       alpha = 1, fontsize = 12,\n",
    "                                       label='Control Campaign',ax=ax[0])\n",
    "\n",
    "ctr_total['Test Campaign'].plot(marker=\"o\", ls='--',markersize=7,\n",
    "                                    alpha = 0.7,fontsize = 12,\n",
    "                                    label='Test Campaign', ax=ax[0])\n",
    "\n",
    "spend_total['Control Campaign'].plot(marker=\"o\", ls='-',markersize=7,\n",
    "                                       alpha = 1, fontsize = 12,\n",
    "                                       label='Control Campaign',ax=ax[1])\n",
    "\n",
    "spend_total['Test Campaign'].plot(marker=\"o\", ls='--',markersize=7,\n",
    "                                    alpha = 0.7,fontsize = 12,\n",
    "                                    label='Test Campaign', ax=ax[1])\n",
    "\n",
    "ax[0].set_title(\"The Total CTR Trend per Month\", fontsize=18, color=\"k\", pad=20)\n",
    "ax[0].set_xlabel(\"The Months\", fontsize=15, color=\"k\", labelpad=20, ha=\"center\")\n",
    "ax[0].set_ylabel(\"The Ratio\",fontsize=15, color=\"k\", labelpad=20, ha=\"center\")\n",
    "ax[0].set_xticks(np.array([datetime.datetime(2019, i, 8, 0, 0) for i in range(1,13,1)]))\n",
    "ax[0].legend(fontsize=12)\n",
    "\n",
    "ax[1].set_title(\"The Total Spend Trend per Month\", fontsize=18, color=\"k\", pad=20)\n",
    "ax[1].set_xlabel(\"The Months\", fontsize=15, color=\"k\", labelpad=20, ha=\"center\")\n",
    "ax[1].set_ylabel(\"The Amount By Dollar \",fontsize=15, color=\"k\", labelpad=20, ha=\"center\")\n",
    "ax[1].set_xticks(np.array([datetime.datetime(2019, i, 8, 0, 0) for i in range(1,13,1)]))\n",
    "ax[1].legend(fontsize=12)\n",
    "\n",
    "plt.subplots_adjust(hspace = 0.7, wspace=0.2);"
   ]
  },
  {
   "cell_type": "markdown",
   "id": "0dde412d",
   "metadata": {
    "papermill": {
     "duration": 0.030658,
     "end_time": "2022-09-04T09:58:41.137626",
     "exception": false,
     "start_time": "2022-09-04T09:58:41.106968",
     "status": "completed"
    },
    "tags": []
   },
   "source": [
    "&#9865; **We find from the beginning of month 1 to the end of month 7 that the spending rate had no significant effect on the click-through rate for the control group and had a slight effect on the test group, but from the beginning of the eighth month the spending rate for each group had a clear effect on the click rate To appear on the same group.**<br><br> \n",
    "\n",
    "**F.** Now let's explore the relationship of each category to spending."
   ]
  },
  {
   "cell_type": "code",
   "execution_count": null,
   "id": "0c6a7b59",
   "metadata": {
    "execution": {
     "iopub.execute_input": "2022-09-04T09:58:41.201891Z",
     "iopub.status.busy": "2022-09-04T09:58:41.201462Z",
     "iopub.status.idle": "2022-09-04T09:58:41.209480Z",
     "shell.execute_reply": "2022-09-04T09:58:41.208237Z"
    },
    "papermill": {
     "duration": 0.042822,
     "end_time": "2022-09-04T09:58:41.211741",
     "exception": false,
     "start_time": "2022-09-04T09:58:41.168919",
     "status": "completed"
    },
    "tags": []
   },
   "outputs": [
    {
     "ename": "",
     "evalue": "",
     "output_type": "error",
     "traceback": [
      "\u001b[1;31mRunning cells with '/usr/bin/python3' requires the ipykernel package.\n",
      "\u001b[1;31mRun the following command to install 'ipykernel' into the Python environment. \n",
      "\u001b[1;31mCommand: '/usr/bin/python3 -m pip install ipykernel -U --user --force-reinstall'"
     ]
    }
   ],
   "source": [
    "def hue_regplot(data, x, y, hue, palette=None, **kwargs):\n",
    "    from matplotlib.cm import get_cmap\n",
    "    \n",
    "    regplots = []\n",
    "    \n",
    "    levels = data[hue].unique()\n",
    "    \n",
    "    if palette is None:\n",
    "        default_colors = get_cmap('tab10')\n",
    "        palette = {k: default_colors(i) for i, k in enumerate(levels)}\n",
    "    \n",
    "    for key in levels:\n",
    "        regplots.append(\n",
    "            sns.regplot(\n",
    "                x=x,\n",
    "                y=y,\n",
    "                data=data[data[hue] == key],\n",
    "                color=palette[key],\n",
    "                **kwargs\n",
    "            )\n",
    "        )\n",
    "    \n",
    "    return regplots"
   ]
  },
  {
   "cell_type": "code",
   "execution_count": null,
   "id": "76c171c4",
   "metadata": {
    "execution": {
     "iopub.execute_input": "2022-09-04T09:58:41.275635Z",
     "iopub.status.busy": "2022-09-04T09:58:41.274855Z",
     "iopub.status.idle": "2022-09-04T09:58:44.064169Z",
     "shell.execute_reply": "2022-09-04T09:58:44.062969Z"
    },
    "papermill": {
     "duration": 2.825668,
     "end_time": "2022-09-04T09:58:44.068257",
     "exception": false,
     "start_time": "2022-09-04T09:58:41.242589",
     "status": "completed"
    },
    "tags": []
   },
   "outputs": [
    {
     "ename": "",
     "evalue": "",
     "output_type": "error",
     "traceback": [
      "\u001b[1;31mRunning cells with '/usr/bin/python3' requires the ipykernel package.\n",
      "\u001b[1;31mRun the following command to install 'ipykernel' into the Python environment. \n",
      "\u001b[1;31mCommand: '/usr/bin/python3 -m pip install ipykernel -U --user --force-reinstall'"
     ]
    }
   ],
   "source": [
    "fig, ax = plt.subplots(2,3, figsize=(18,10), sharex=False)\n",
    "cr = sns.color_palette()\n",
    "\n",
    "cols= new_df.columns[4:10]\n",
    "\n",
    "r=0\n",
    "c=0\n",
    "i=0\n",
    "\n",
    "for col in cols:\n",
    "    hue_regplot(data = new_df, x = \"spend_usd\", y= col, hue='campaign_name', ax = ax[r,c])\n",
    "    i+=1\n",
    "    ax[r,c].set_title(\"Correlation between {} and spend_[usd]\".format(col).replace(\"_\",\" \"),fontsize=15,color=\"k\", pad=25)\n",
    "    ax[r,c].set_xlabel(\"spend_usd\", fontsize=14, color=\"k\")\n",
    "    ax[r,c].set_ylabel(col, fontsize=14, color=\"k\")\n",
    "    ax[r,c].legend(['Control','Test'], loc= 'upper right', fontsize= 11)\n",
    "    if c>=2:\n",
    "        r+=1\n",
    "        c=-1    \n",
    "    c+=1          \n",
    "plt.subplots_adjust(hspace = 0.6, wspace=0.3);        "
   ]
  },
  {
   "cell_type": "markdown",
   "id": "319db47b",
   "metadata": {
    "papermill": {
     "duration": 0.034018,
     "end_time": "2022-09-04T09:58:44.137346",
     "exception": false,
     "start_time": "2022-09-04T09:58:44.103328",
     "status": "completed"
    },
    "tags": []
   },
   "source": [
    "&#9865; **We find that the only apparent and logical relationship with spending is for each of the two categories(reach and website_ clicks).**<br><br> \n",
    "\n",
    "================================================================================================================"
   ]
  },
  {
   "cell_type": "markdown",
   "id": "c98e4fbd",
   "metadata": {
    "papermill": {
     "duration": 0.033266,
     "end_time": "2022-09-04T09:58:44.204531",
     "exception": false,
     "start_time": "2022-09-04T09:58:44.171265",
     "status": "completed"
    },
    "tags": []
   },
   "source": [
    "<br><br>\n",
    "<a id='ab_test'></a>\n",
    "## Part III - A/B Test\n",
    "\n",
    "#### Since a timestamp is associated with each event, we could run a hypothesis test continuously as long as we observe the events. \n",
    "\n",
    "#### However, then the hard questions would be: \n",
    "- Do we stop as soon as one landing pages is considered significantly better than another or does it need to happen consistently for a certain amount of time?  \n",
    "- How long do we run to render a decision that neither page is better than another?  \n",
    "\n",
    "#### These questions are the difficult parts associated with A/B tests in general. But for now, let's keep in mind that we need to make the decision based only on all the data provided.\n",
    "\n",
    " \n",
    "\n",
    "#### So, if we want to make the basic assumption that the old landing page is still better than the new landing page, unless we prove that the new page is definitely better, and besides being able to commit a type 1 error rate \"α\" of 0.05 or 5%, it will be Our null hypothesis and alternative hypothesis (**$H_0$** and **$H_1$**), are as follows:  "
   ]
  },
  {
   "cell_type": "markdown",
   "id": "5bb59d0b",
   "metadata": {
    "papermill": {
     "duration": 0.033157,
     "end_time": "2022-09-04T09:58:44.271244",
     "exception": false,
     "start_time": "2022-09-04T09:58:44.238087",
     "status": "completed"
    },
    "tags": []
   },
   "source": [
    "**1. The Null Hypotheses: P_new - P_old <= 0:**\n",
    "$$H_0: P_{new} - P_{old} \\leq 0 $$\n",
    "\n",
    "**2. The Alternative Hypotheses: P_new - P_old > 0:**\n",
    "$$H_1: P_{new} - P_{old} > 0 $$ \n",
    "\n",
    "\n",
    "#### In this section, we will: \n",
    "\n",
    "- Simulate (bootstrap) sample data set for both groups, and compute the  \"converted\" probability $p$ for those samples. \n",
    "\n",
    "\n",
    "- Use a sample size for each group equal to the ones in the `new_df` data.\n",
    "\n",
    "\n",
    "- Compute the difference in the \"converted\" probability for the two samples above. \n",
    "\n",
    "\n",
    "- Perform the sampling distribution for the \"difference in the probability\" between the two simulated-samples over 10,000 iterations; and calculate an estimate. \n",
    "\n",
    "\n",
    "\n",
    "**A.** **We will first do A/B tests on the click-through rate (CTR), as follows:**"
   ]
  },
  {
   "cell_type": "code",
   "execution_count": null,
   "id": "f9f44144",
   "metadata": {
    "execution": {
     "iopub.execute_input": "2022-09-04T09:58:44.340561Z",
     "iopub.status.busy": "2022-09-04T09:58:44.340160Z",
     "iopub.status.idle": "2022-09-04T09:58:44.347706Z",
     "shell.execute_reply": "2022-09-04T09:58:44.346861Z"
    },
    "papermill": {
     "duration": 0.045076,
     "end_time": "2022-09-04T09:58:44.349938",
     "exception": false,
     "start_time": "2022-09-04T09:58:44.304862",
     "status": "completed"
    },
    "tags": []
   },
   "outputs": [
    {
     "ename": "",
     "evalue": "",
     "output_type": "error",
     "traceback": [
      "\u001b[1;31mRunning cells with '/usr/bin/python3' requires the ipykernel package.\n",
      "\u001b[1;31mRun the following command to install 'ipykernel' into the Python environment. \n",
      "\u001b[1;31mCommand: '/usr/bin/python3 -m pip install ipykernel -U --user --force-reinstall'"
     ]
    }
   ],
   "source": [
    "reach_cont= new_df.loc[new_df['campaign_name']=='Control Campaign'][\"reach\"].sum()\n",
    "\n",
    "click_cont= new_df.loc[new_df['campaign_name']=='Control Campaign'][\"website_clicks\"].sum()\n",
    "\n",
    "ctr_cont = click_cont / reach_cont"
   ]
  },
  {
   "cell_type": "code",
   "execution_count": null,
   "id": "9b914617",
   "metadata": {
    "execution": {
     "iopub.execute_input": "2022-09-04T09:58:44.420568Z",
     "iopub.status.busy": "2022-09-04T09:58:44.419821Z",
     "iopub.status.idle": "2022-09-04T09:58:44.427041Z",
     "shell.execute_reply": "2022-09-04T09:58:44.426182Z"
    },
    "papermill": {
     "duration": 0.044941,
     "end_time": "2022-09-04T09:58:44.429283",
     "exception": false,
     "start_time": "2022-09-04T09:58:44.384342",
     "status": "completed"
    },
    "tags": []
   },
   "outputs": [
    {
     "ename": "",
     "evalue": "",
     "output_type": "error",
     "traceback": [
      "\u001b[1;31mRunning cells with '/usr/bin/python3' requires the ipykernel package.\n",
      "\u001b[1;31mRun the following command to install 'ipykernel' into the Python environment. \n",
      "\u001b[1;31mCommand: '/usr/bin/python3 -m pip install ipykernel -U --user --force-reinstall'"
     ]
    }
   ],
   "source": [
    "reach_test= new_df.loc[new_df['campaign_name']=='Test Campaign'][\"reach\"].sum()\n",
    "\n",
    "click_test= new_df.loc[new_df['campaign_name']=='Test Campaign'][\"website_clicks\"].sum()\n",
    "\n",
    "ctr_test = click_test / reach_test"
   ]
  },
  {
   "cell_type": "code",
   "execution_count": null,
   "id": "e08216e7",
   "metadata": {
    "execution": {
     "iopub.execute_input": "2022-09-04T09:58:44.498552Z",
     "iopub.status.busy": "2022-09-04T09:58:44.498162Z",
     "iopub.status.idle": "2022-09-04T09:58:44.504485Z",
     "shell.execute_reply": "2022-09-04T09:58:44.503610Z"
    },
    "papermill": {
     "duration": 0.043303,
     "end_time": "2022-09-04T09:58:44.506473",
     "exception": false,
     "start_time": "2022-09-04T09:58:44.463170",
     "status": "completed"
    },
    "tags": []
   },
   "outputs": [
    {
     "ename": "",
     "evalue": "",
     "output_type": "error",
     "traceback": [
      "\u001b[1;31mRunning cells with '/usr/bin/python3' requires the ipykernel package.\n",
      "\u001b[1;31mRun the following command to install 'ipykernel' into the Python environment. \n",
      "\u001b[1;31mCommand: '/usr/bin/python3 -m pip install ipykernel -U --user --force-reinstall'"
     ]
    }
   ],
   "source": [
    "obs_diff_ctr = ctr_test - ctr_cont\n",
    "obs_diff_ctr"
   ]
  },
  {
   "cell_type": "code",
   "execution_count": null,
   "id": "3090c37e",
   "metadata": {
    "execution": {
     "iopub.execute_input": "2022-09-04T09:58:44.576318Z",
     "iopub.status.busy": "2022-09-04T09:58:44.575555Z",
     "iopub.status.idle": "2022-09-04T09:59:12.880213Z",
     "shell.execute_reply": "2022-09-04T09:59:12.879035Z"
    },
    "papermill": {
     "duration": 28.343021,
     "end_time": "2022-09-04T09:59:12.883373",
     "exception": false,
     "start_time": "2022-09-04T09:58:44.540352",
     "status": "completed"
    },
    "tags": []
   },
   "outputs": [
    {
     "ename": "",
     "evalue": "",
     "output_type": "error",
     "traceback": [
      "\u001b[1;31mRunning cells with '/usr/bin/python3' requires the ipykernel package.\n",
      "\u001b[1;31mRun the following command to install 'ipykernel' into the Python environment. \n",
      "\u001b[1;31mCommand: '/usr/bin/python3 -m pip install ipykernel -U --user --force-reinstall'"
     ]
    }
   ],
   "source": [
    "diffs_ctr = []\n",
    "\n",
    "for i in range(10000):\n",
    "    b_sample = new_df.sample(new_df.shape[0], replace= True)\n",
    "    \n",
    "    samp_rh_cont= b_sample.loc[b_sample['campaign_name']=='Control Campaign'][\"reach\"].sum()\n",
    "    samp_ck_cont= b_sample.loc[b_sample['campaign_name']=='Control Campaign'][\"website_clicks\"].sum()\n",
    "    samp_ctr_cont= samp_ck_cont / samp_rh_cont\n",
    "    \n",
    "    samp_rh_test= b_sample.loc[b_sample['campaign_name']=='Test Campaign'][\"reach\"].sum()\n",
    "    samp_ck_test= b_sample.loc[b_sample['campaign_name']=='Test Campaign'][\"website_clicks\"].sum()\n",
    "    samp_ctr_test= samp_ck_test / samp_rh_test\n",
    "    \n",
    "    diffs_ctr.append(samp_ctr_test - samp_ctr_cont)"
   ]
  },
  {
   "cell_type": "code",
   "execution_count": null,
   "id": "84881da4",
   "metadata": {
    "execution": {
     "iopub.execute_input": "2022-09-04T09:59:12.955962Z",
     "iopub.status.busy": "2022-09-04T09:59:12.955547Z",
     "iopub.status.idle": "2022-09-04T09:59:13.270368Z",
     "shell.execute_reply": "2022-09-04T09:59:13.269287Z"
    },
    "papermill": {
     "duration": 0.353067,
     "end_time": "2022-09-04T09:59:13.272619",
     "exception": false,
     "start_time": "2022-09-04T09:59:12.919552",
     "status": "completed"
    },
    "scrolled": true,
    "tags": []
   },
   "outputs": [
    {
     "ename": "",
     "evalue": "",
     "output_type": "error",
     "traceback": [
      "\u001b[1;31mRunning cells with '/usr/bin/python3' requires the ipykernel package.\n",
      "\u001b[1;31mRun the following command to install 'ipykernel' into the Python environment. \n",
      "\u001b[1;31mCommand: '/usr/bin/python3 -m pip install ipykernel -U --user --force-reinstall'"
     ]
    }
   ],
   "source": [
    "diffs_ctr = np.array(diffs_ctr) # convert to numpy array\n",
    "\n",
    "low, high = np.percentile(diffs_ctr, 2.5), np.percentile(diffs_ctr, 97.5)\n",
    "\n",
    "#Looking at the sampling distribution through the histogram\n",
    "plt.figure(figsize=(6,5))\n",
    "plt.hist(diffs_ctr)\n",
    "plt.title('Sampling Distribution by confidence interval', fontsize=15, fontweight=\"bold\")\n",
    "plt.xlabel('proportions of differences', fontsize=15)\n",
    "plt.ylabel('frequency', fontsize=15)\n",
    "plt.axvline(x= low, color= 'r', linewidth= 2)\n",
    "plt.axvline(x= high, color= 'r', linewidth= 2)\n",
    "plt.axvline(x= 0, color= 'b', linewidth= 2);"
   ]
  },
  {
   "cell_type": "code",
   "execution_count": null,
   "id": "8cb25358",
   "metadata": {
    "execution": {
     "iopub.execute_input": "2022-09-04T09:59:13.344318Z",
     "iopub.status.busy": "2022-09-04T09:59:13.343862Z",
     "iopub.status.idle": "2022-09-04T09:59:13.649870Z",
     "shell.execute_reply": "2022-09-04T09:59:13.648665Z"
    },
    "papermill": {
     "duration": 0.3449,
     "end_time": "2022-09-04T09:59:13.652505",
     "exception": false,
     "start_time": "2022-09-04T09:59:13.307605",
     "status": "completed"
    },
    "tags": []
   },
   "outputs": [
    {
     "ename": "",
     "evalue": "",
     "output_type": "error",
     "traceback": [
      "\u001b[1;31mRunning cells with '/usr/bin/python3' requires the ipykernel package.\n",
      "\u001b[1;31mRun the following command to install 'ipykernel' into the Python environment. \n",
      "\u001b[1;31mCommand: '/usr/bin/python3 -m pip install ipykernel -U --user --force-reinstall'"
     ]
    }
   ],
   "source": [
    "#Looking at the sampling distribution as a normal distribution under the null hypothesis through the histogram\n",
    "null_vals= np.random.normal(0, diffs_ctr.std(), diffs_ctr.size)\n",
    "\n",
    "plt.figure(figsize=(6,5))\n",
    "plt.hist(null_vals)\n",
    "plt.axvline(obs_diff_ctr, c=\"red\")\n",
    "plt.title('Normal Distribution under the null hypothesis',fontsize=15, fontweight=\"bold\")\n",
    "plt.xlabel('proportions of differences', fontsize=15)\n",
    "plt.ylabel('frequency', fontsize=15);"
   ]
  },
  {
   "cell_type": "code",
   "execution_count": null,
   "id": "672b5a71",
   "metadata": {
    "execution": {
     "iopub.execute_input": "2022-09-04T09:59:13.725300Z",
     "iopub.status.busy": "2022-09-04T09:59:13.724464Z",
     "iopub.status.idle": "2022-09-04T09:59:13.731380Z",
     "shell.execute_reply": "2022-09-04T09:59:13.730058Z"
    },
    "papermill": {
     "duration": 0.046611,
     "end_time": "2022-09-04T09:59:13.734346",
     "exception": false,
     "start_time": "2022-09-04T09:59:13.687735",
     "status": "completed"
    },
    "scrolled": true,
    "tags": []
   },
   "outputs": [
    {
     "ename": "",
     "evalue": "",
     "output_type": "error",
     "traceback": [
      "\u001b[1;31mRunning cells with '/usr/bin/python3' requires the ipykernel package.\n",
      "\u001b[1;31mRun the following command to install 'ipykernel' into the Python environment. \n",
      "\u001b[1;31mCommand: '/usr/bin/python3 -m pip install ipykernel -U --user --force-reinstall'"
     ]
    }
   ],
   "source": [
    "print(\"The p-value is: {}\".format((null_vals > obs_diff_ctr).mean()))"
   ]
  },
  {
   "cell_type": "markdown",
   "id": "2e0083f2",
   "metadata": {
    "papermill": {
     "duration": 0.035425,
     "end_time": "2022-09-04T09:59:13.805159",
     "exception": false,
     "start_time": "2022-09-04T09:59:13.769734",
     "status": "completed"
    },
    "tags": []
   },
   "source": [
    "&#9865; **Here the result of the p-value says we reject the null hypothesis that says that the click-through rate of the test group is less than or equal to the rate of the control group, and therefore we accept the hypothesis that the click-through rate of the test group is greater than the control group.**<br><br>\n",
    "\n",
    "\n",
    "**B.** **Now let's do A/B tests for average search, content viewing, adding to cart and purchasing.**"
   ]
  },
  {
   "cell_type": "code",
   "execution_count": null,
   "id": "b9551a49",
   "metadata": {
    "execution": {
     "iopub.execute_input": "2022-09-04T09:59:13.877853Z",
     "iopub.status.busy": "2022-09-04T09:59:13.877044Z",
     "iopub.status.idle": "2022-09-04T09:59:13.887711Z",
     "shell.execute_reply": "2022-09-04T09:59:13.886737Z"
    },
    "papermill": {
     "duration": 0.049682,
     "end_time": "2022-09-04T09:59:13.890059",
     "exception": false,
     "start_time": "2022-09-04T09:59:13.840377",
     "status": "completed"
    },
    "tags": []
   },
   "outputs": [
    {
     "ename": "",
     "evalue": "",
     "output_type": "error",
     "traceback": [
      "\u001b[1;31mRunning cells with '/usr/bin/python3' requires the ipykernel package.\n",
      "\u001b[1;31mRun the following command to install 'ipykernel' into the Python environment. \n",
      "\u001b[1;31mCommand: '/usr/bin/python3 -m pip install ipykernel -U --user --force-reinstall'"
     ]
    }
   ],
   "source": [
    "search_cont= new_df.loc[new_df['campaign_name']=='Control Campaign'][\"searches\"].mean()\n",
    "search_test= new_df.loc[new_df['campaign_name']=='Test Campaign'][\"searches\"].mean()\n",
    "\n",
    "obs_dif_srch= search_test - search_cont\n",
    "\n",
    "obs_dif_srch"
   ]
  },
  {
   "cell_type": "code",
   "execution_count": null,
   "id": "32310e82",
   "metadata": {
    "execution": {
     "iopub.execute_input": "2022-09-04T09:59:13.963529Z",
     "iopub.status.busy": "2022-09-04T09:59:13.962656Z",
     "iopub.status.idle": "2022-09-04T09:59:30.334330Z",
     "shell.execute_reply": "2022-09-04T09:59:30.333051Z"
    },
    "papermill": {
     "duration": 16.411651,
     "end_time": "2022-09-04T09:59:30.337101",
     "exception": false,
     "start_time": "2022-09-04T09:59:13.925450",
     "status": "completed"
    },
    "tags": []
   },
   "outputs": [
    {
     "ename": "",
     "evalue": "",
     "output_type": "error",
     "traceback": [
      "\u001b[1;31mRunning cells with '/usr/bin/python3' requires the ipykernel package.\n",
      "\u001b[1;31mRun the following command to install 'ipykernel' into the Python environment. \n",
      "\u001b[1;31mCommand: '/usr/bin/python3 -m pip install ipykernel -U --user --force-reinstall'"
     ]
    }
   ],
   "source": [
    "diffs_srch = []\n",
    "\n",
    "for i in range(10000):\n",
    "    b_sample = new_df.sample(new_df.shape[0], replace= True)\n",
    "    \n",
    "    samp_srh_cont= b_sample.loc[b_sample['campaign_name']=='Control Campaign'][\"searches\"].mean()\n",
    "    samp_srh_test= b_sample.loc[b_sample['campaign_name']=='Test Campaign'][\"searches\"].mean()\n",
    "    \n",
    "    diffs_srch.append(samp_srh_test - samp_srh_cont)"
   ]
  },
  {
   "cell_type": "code",
   "execution_count": null,
   "id": "7909c469",
   "metadata": {
    "execution": {
     "iopub.execute_input": "2022-09-04T09:59:30.411015Z",
     "iopub.status.busy": "2022-09-04T09:59:30.410576Z",
     "iopub.status.idle": "2022-09-04T09:59:30.679177Z",
     "shell.execute_reply": "2022-09-04T09:59:30.677898Z"
    },
    "papermill": {
     "duration": 0.308392,
     "end_time": "2022-09-04T09:59:30.681714",
     "exception": false,
     "start_time": "2022-09-04T09:59:30.373322",
     "status": "completed"
    },
    "tags": []
   },
   "outputs": [
    {
     "ename": "",
     "evalue": "",
     "output_type": "error",
     "traceback": [
      "\u001b[1;31mRunning cells with '/usr/bin/python3' requires the ipykernel package.\n",
      "\u001b[1;31mRun the following command to install 'ipykernel' into the Python environment. \n",
      "\u001b[1;31mCommand: '/usr/bin/python3 -m pip install ipykernel -U --user --force-reinstall'"
     ]
    }
   ],
   "source": [
    "diffs_srch = np.array(diffs_srch) # convert to numpy array\n",
    "\n",
    "low, high = np.percentile(diffs_srch, 2.5), np.percentile(diffs_srch, 97.5)\n",
    "\n",
    "#Looking at the sampling distribution through the histogram\n",
    "plt.figure(figsize=(6,5))\n",
    "plt.hist(diffs_srch)\n",
    "plt.title('Sampling Distribution by confidence interval', fontsize=15, fontweight=\"bold\")\n",
    "plt.xlabel('proportions of differences', fontsize=15)\n",
    "plt.ylabel('frequency', fontsize=15)\n",
    "plt.axvline(x= low, color= 'r', linewidth= 2)\n",
    "plt.axvline(x= high, color= 'r', linewidth= 2)\n",
    "plt.axvline(x= 0, color= 'b', linewidth= 2);"
   ]
  },
  {
   "cell_type": "code",
   "execution_count": null,
   "id": "62fde04a",
   "metadata": {
    "execution": {
     "iopub.execute_input": "2022-09-04T09:59:30.759543Z",
     "iopub.status.busy": "2022-09-04T09:59:30.759138Z",
     "iopub.status.idle": "2022-09-04T09:59:31.053363Z",
     "shell.execute_reply": "2022-09-04T09:59:31.052290Z"
    },
    "papermill": {
     "duration": 0.335231,
     "end_time": "2022-09-04T09:59:31.055814",
     "exception": false,
     "start_time": "2022-09-04T09:59:30.720583",
     "status": "completed"
    },
    "scrolled": true,
    "tags": []
   },
   "outputs": [
    {
     "ename": "",
     "evalue": "",
     "output_type": "error",
     "traceback": [
      "\u001b[1;31mRunning cells with '/usr/bin/python3' requires the ipykernel package.\n",
      "\u001b[1;31mRun the following command to install 'ipykernel' into the Python environment. \n",
      "\u001b[1;31mCommand: '/usr/bin/python3 -m pip install ipykernel -U --user --force-reinstall'"
     ]
    }
   ],
   "source": [
    "#Looking at the sampling distribution as a normal distribution under the null hypothesis through the histogram\n",
    "null_vals= np.random.normal(0, diffs_srch.std(), diffs_srch.size)\n",
    "\n",
    "plt.figure(figsize=(6,5))\n",
    "plt.hist(null_vals)\n",
    "plt.axvline(obs_dif_srch, c=\"red\")\n",
    "plt.title('Normal Distribution under the null hypothesis',fontsize=15, fontweight=\"bold\")\n",
    "plt.xlabel('proportions of differences', fontsize=15)\n",
    "plt.ylabel('frequency', fontsize=15);"
   ]
  },
  {
   "cell_type": "code",
   "execution_count": null,
   "id": "5ab41941",
   "metadata": {
    "execution": {
     "iopub.execute_input": "2022-09-04T09:59:31.132888Z",
     "iopub.status.busy": "2022-09-04T09:59:31.132148Z",
     "iopub.status.idle": "2022-09-04T09:59:31.138027Z",
     "shell.execute_reply": "2022-09-04T09:59:31.136789Z"
    },
    "papermill": {
     "duration": 0.047511,
     "end_time": "2022-09-04T09:59:31.140292",
     "exception": false,
     "start_time": "2022-09-04T09:59:31.092781",
     "status": "completed"
    },
    "tags": []
   },
   "outputs": [
    {
     "ename": "",
     "evalue": "",
     "output_type": "error",
     "traceback": [
      "\u001b[1;31mRunning cells with '/usr/bin/python3' requires the ipykernel package.\n",
      "\u001b[1;31mRun the following command to install 'ipykernel' into the Python environment. \n",
      "\u001b[1;31mCommand: '/usr/bin/python3 -m pip install ipykernel -U --user --force-reinstall'"
     ]
    }
   ],
   "source": [
    "print(\"The p-value is: {}\".format((null_vals > obs_dif_srch).mean()))"
   ]
  },
  {
   "cell_type": "code",
   "execution_count": null,
   "id": "20c6c769",
   "metadata": {
    "execution": {
     "iopub.execute_input": "2022-09-04T09:59:31.215569Z",
     "iopub.status.busy": "2022-09-04T09:59:31.214834Z",
     "iopub.status.idle": "2022-09-04T09:59:31.225263Z",
     "shell.execute_reply": "2022-09-04T09:59:31.224443Z"
    },
    "papermill": {
     "duration": 0.050556,
     "end_time": "2022-09-04T09:59:31.227297",
     "exception": false,
     "start_time": "2022-09-04T09:59:31.176741",
     "status": "completed"
    },
    "tags": []
   },
   "outputs": [
    {
     "ename": "",
     "evalue": "",
     "output_type": "error",
     "traceback": [
      "\u001b[1;31mRunning cells with '/usr/bin/python3' requires the ipykernel package.\n",
      "\u001b[1;31mRun the following command to install 'ipykernel' into the Python environment. \n",
      "\u001b[1;31mCommand: '/usr/bin/python3 -m pip install ipykernel -U --user --force-reinstall'"
     ]
    }
   ],
   "source": [
    "view_cont= new_df.loc[new_df['campaign_name']=='Control Campaign'][\"view_content\"].mean()\n",
    "view_test= new_df.loc[new_df['campaign_name']=='Test Campaign'][\"view_content\"].mean()\n",
    "\n",
    "obs_dif_vi= view_test - view_cont\n",
    "\n",
    "obs_dif_vi"
   ]
  },
  {
   "cell_type": "code",
   "execution_count": null,
   "id": "5c350554",
   "metadata": {
    "execution": {
     "iopub.execute_input": "2022-09-04T09:59:31.305677Z",
     "iopub.status.busy": "2022-09-04T09:59:31.305006Z",
     "iopub.status.idle": "2022-09-04T09:59:47.747597Z",
     "shell.execute_reply": "2022-09-04T09:59:47.746361Z"
    },
    "papermill": {
     "duration": 16.484317,
     "end_time": "2022-09-04T09:59:47.750492",
     "exception": false,
     "start_time": "2022-09-04T09:59:31.266175",
     "status": "completed"
    },
    "tags": []
   },
   "outputs": [
    {
     "ename": "",
     "evalue": "",
     "output_type": "error",
     "traceback": [
      "\u001b[1;31mRunning cells with '/usr/bin/python3' requires the ipykernel package.\n",
      "\u001b[1;31mRun the following command to install 'ipykernel' into the Python environment. \n",
      "\u001b[1;31mCommand: '/usr/bin/python3 -m pip install ipykernel -U --user --force-reinstall'"
     ]
    }
   ],
   "source": [
    "diffs_view = []\n",
    "\n",
    "for i in range(10000):\n",
    "    b_sample = new_df.sample(new_df.shape[0], replace= True)\n",
    "    \n",
    "    samp_vi_cont= b_sample.loc[b_sample['campaign_name']=='Control Campaign'][\"view_content\"].mean()\n",
    "    samp_vi_test= b_sample.loc[b_sample['campaign_name']=='Test Campaign'][\"view_content\"].mean()\n",
    "    \n",
    "    diffs_view.append(samp_vi_test - samp_vi_cont)"
   ]
  },
  {
   "cell_type": "code",
   "execution_count": null,
   "id": "b8603741",
   "metadata": {
    "execution": {
     "iopub.execute_input": "2022-09-04T09:59:47.828273Z",
     "iopub.status.busy": "2022-09-04T09:59:47.827825Z",
     "iopub.status.idle": "2022-09-04T09:59:48.136011Z",
     "shell.execute_reply": "2022-09-04T09:59:48.135141Z"
    },
    "papermill": {
     "duration": 0.350023,
     "end_time": "2022-09-04T09:59:48.138249",
     "exception": false,
     "start_time": "2022-09-04T09:59:47.788226",
     "status": "completed"
    },
    "tags": []
   },
   "outputs": [
    {
     "ename": "",
     "evalue": "",
     "output_type": "error",
     "traceback": [
      "\u001b[1;31mRunning cells with '/usr/bin/python3' requires the ipykernel package.\n",
      "\u001b[1;31mRun the following command to install 'ipykernel' into the Python environment. \n",
      "\u001b[1;31mCommand: '/usr/bin/python3 -m pip install ipykernel -U --user --force-reinstall'"
     ]
    }
   ],
   "source": [
    "diffs_view = np.array(diffs_view) # convert to numpy array\n",
    "\n",
    "low, high = np.percentile(diffs_view, 2.5), np.percentile(diffs_view, 97.5)\n",
    "\n",
    "#Looking at the sampling distribution through the histogram\n",
    "plt.figure(figsize=(6,5))\n",
    "plt.hist(diffs_view)\n",
    "plt.title('Sampling Distribution by confidence interval', fontsize=15, fontweight=\"bold\")\n",
    "plt.xlabel('proportions of differences', fontsize=15)\n",
    "plt.ylabel('frequency', fontsize=15)\n",
    "plt.axvline(x= low, color= 'r', linewidth= 2)\n",
    "plt.axvline(x= high, color= 'r', linewidth= 2)\n",
    "plt.axvline(x= 0, color= 'b', linewidth= 2);"
   ]
  },
  {
   "cell_type": "code",
   "execution_count": null,
   "id": "5f1dc165",
   "metadata": {
    "execution": {
     "iopub.execute_input": "2022-09-04T09:59:48.217465Z",
     "iopub.status.busy": "2022-09-04T09:59:48.217047Z",
     "iopub.status.idle": "2022-09-04T09:59:48.516724Z",
     "shell.execute_reply": "2022-09-04T09:59:48.515502Z"
    },
    "papermill": {
     "duration": 0.341912,
     "end_time": "2022-09-04T09:59:48.519273",
     "exception": false,
     "start_time": "2022-09-04T09:59:48.177361",
     "status": "completed"
    },
    "tags": []
   },
   "outputs": [
    {
     "ename": "",
     "evalue": "",
     "output_type": "error",
     "traceback": [
      "\u001b[1;31mRunning cells with '/usr/bin/python3' requires the ipykernel package.\n",
      "\u001b[1;31mRun the following command to install 'ipykernel' into the Python environment. \n",
      "\u001b[1;31mCommand: '/usr/bin/python3 -m pip install ipykernel -U --user --force-reinstall'"
     ]
    }
   ],
   "source": [
    "#Looking at the sampling distribution as a normal distribution under the null hypothesis through the histogram\n",
    "null_vals= np.random.normal(0, diffs_view.std(), diffs_view.size)\n",
    "\n",
    "plt.figure(figsize=(6,5))\n",
    "plt.hist(null_vals)\n",
    "plt.axvline(obs_dif_vi, c=\"red\")\n",
    "plt.title('Normal Distribution under the null hypothesis',fontsize=15, fontweight=\"bold\")\n",
    "plt.xlabel('proportions of differences', fontsize=15)\n",
    "plt.ylabel('frequency', fontsize=15);"
   ]
  },
  {
   "cell_type": "code",
   "execution_count": null,
   "id": "ea1cefdc",
   "metadata": {
    "execution": {
     "iopub.execute_input": "2022-09-04T09:59:48.597282Z",
     "iopub.status.busy": "2022-09-04T09:59:48.596579Z",
     "iopub.status.idle": "2022-09-04T09:59:48.602732Z",
     "shell.execute_reply": "2022-09-04T09:59:48.601334Z"
    },
    "papermill": {
     "duration": 0.047761,
     "end_time": "2022-09-04T09:59:48.604953",
     "exception": false,
     "start_time": "2022-09-04T09:59:48.557192",
     "status": "completed"
    },
    "tags": []
   },
   "outputs": [
    {
     "ename": "",
     "evalue": "",
     "output_type": "error",
     "traceback": [
      "\u001b[1;31mRunning cells with '/usr/bin/python3' requires the ipykernel package.\n",
      "\u001b[1;31mRun the following command to install 'ipykernel' into the Python environment. \n",
      "\u001b[1;31mCommand: '/usr/bin/python3 -m pip install ipykernel -U --user --force-reinstall'"
     ]
    }
   ],
   "source": [
    "print(\"The p-value is: {}\".format((null_vals > obs_dif_vi).mean()))"
   ]
  },
  {
   "cell_type": "code",
   "execution_count": null,
   "id": "1e4bdfa6",
   "metadata": {
    "execution": {
     "iopub.execute_input": "2022-09-04T09:59:48.683729Z",
     "iopub.status.busy": "2022-09-04T09:59:48.682931Z",
     "iopub.status.idle": "2022-09-04T09:59:48.692827Z",
     "shell.execute_reply": "2022-09-04T09:59:48.691973Z"
    },
    "papermill": {
     "duration": 0.052193,
     "end_time": "2022-09-04T09:59:48.695060",
     "exception": false,
     "start_time": "2022-09-04T09:59:48.642867",
     "status": "completed"
    },
    "tags": []
   },
   "outputs": [
    {
     "ename": "",
     "evalue": "",
     "output_type": "error",
     "traceback": [
      "\u001b[1;31mRunning cells with '/usr/bin/python3' requires the ipykernel package.\n",
      "\u001b[1;31mRun the following command to install 'ipykernel' into the Python environment. \n",
      "\u001b[1;31mCommand: '/usr/bin/python3 -m pip install ipykernel -U --user --force-reinstall'"
     ]
    }
   ],
   "source": [
    "cart_cont= new_df.loc[new_df['campaign_name']=='Control Campaign'][\"add_to_cart\"].mean()\n",
    "cart_test= new_df.loc[new_df['campaign_name']=='Test Campaign'][\"add_to_cart\"].mean()\n",
    "\n",
    "obs_dif_ct= cart_test - cart_cont\n",
    "\n",
    "obs_dif_ct"
   ]
  },
  {
   "cell_type": "code",
   "execution_count": null,
   "id": "20d7d468",
   "metadata": {
    "execution": {
     "iopub.execute_input": "2022-09-04T09:59:48.775156Z",
     "iopub.status.busy": "2022-09-04T09:59:48.774390Z",
     "iopub.status.idle": "2022-09-04T10:00:05.439605Z",
     "shell.execute_reply": "2022-09-04T10:00:05.438335Z"
    },
    "papermill": {
     "duration": 16.708742,
     "end_time": "2022-09-04T10:00:05.442527",
     "exception": false,
     "start_time": "2022-09-04T09:59:48.733785",
     "status": "completed"
    },
    "tags": []
   },
   "outputs": [
    {
     "ename": "",
     "evalue": "",
     "output_type": "error",
     "traceback": [
      "\u001b[1;31mRunning cells with '/usr/bin/python3' requires the ipykernel package.\n",
      "\u001b[1;31mRun the following command to install 'ipykernel' into the Python environment. \n",
      "\u001b[1;31mCommand: '/usr/bin/python3 -m pip install ipykernel -U --user --force-reinstall'"
     ]
    }
   ],
   "source": [
    "diffs_cart = []\n",
    "\n",
    "for i in range(10000):\n",
    "    b_sample = new_df.sample(new_df.shape[0], replace= True)\n",
    "    \n",
    "    samp_ct_cont= b_sample.loc[b_sample['campaign_name']=='Control Campaign'][\"add_to_cart\"].mean()\n",
    "    samp_ct_test= b_sample.loc[b_sample['campaign_name']=='Test Campaign'][\"add_to_cart\"].mean()\n",
    "    \n",
    "    diffs_cart.append(samp_ct_test - samp_ct_cont)"
   ]
  },
  {
   "cell_type": "code",
   "execution_count": null,
   "id": "f3cd545b",
   "metadata": {
    "execution": {
     "iopub.execute_input": "2022-09-04T10:00:05.523265Z",
     "iopub.status.busy": "2022-09-04T10:00:05.522824Z",
     "iopub.status.idle": "2022-09-04T10:00:05.851941Z",
     "shell.execute_reply": "2022-09-04T10:00:05.850607Z"
    },
    "papermill": {
     "duration": 0.373215,
     "end_time": "2022-09-04T10:00:05.854648",
     "exception": false,
     "start_time": "2022-09-04T10:00:05.481433",
     "status": "completed"
    },
    "tags": []
   },
   "outputs": [
    {
     "ename": "",
     "evalue": "",
     "output_type": "error",
     "traceback": [
      "\u001b[1;31mRunning cells with '/usr/bin/python3' requires the ipykernel package.\n",
      "\u001b[1;31mRun the following command to install 'ipykernel' into the Python environment. \n",
      "\u001b[1;31mCommand: '/usr/bin/python3 -m pip install ipykernel -U --user --force-reinstall'"
     ]
    }
   ],
   "source": [
    "diffs_cart = np.array(diffs_cart) # convert to numpy array\n",
    "\n",
    "low, high = np.percentile(diffs_cart, 2.5), np.percentile(diffs_cart, 97.5)\n",
    "\n",
    "#Looking at the sampling distribution through the histogram\n",
    "plt.figure(figsize=(6,5))\n",
    "plt.hist(diffs_cart)\n",
    "plt.title('Sampling Distribution by confidence interval', fontsize=15, fontweight=\"bold\")\n",
    "plt.xlabel('proportions of differences', fontsize=15)\n",
    "plt.ylabel('frequency', fontsize=15)\n",
    "plt.axvline(x= low, color= 'r', linewidth= 2)\n",
    "plt.axvline(x= high, color= 'r', linewidth= 2)\n",
    "plt.axvline(x= 0, color= 'b', linewidth= 2);"
   ]
  },
  {
   "cell_type": "code",
   "execution_count": null,
   "id": "6c2d78a8",
   "metadata": {
    "execution": {
     "iopub.execute_input": "2022-09-04T10:00:05.939604Z",
     "iopub.status.busy": "2022-09-04T10:00:05.939143Z",
     "iopub.status.idle": "2022-09-04T10:00:06.431055Z",
     "shell.execute_reply": "2022-09-04T10:00:06.429872Z"
    },
    "papermill": {
     "duration": 0.537159,
     "end_time": "2022-09-04T10:00:06.433822",
     "exception": false,
     "start_time": "2022-09-04T10:00:05.896663",
     "status": "completed"
    },
    "tags": []
   },
   "outputs": [
    {
     "ename": "",
     "evalue": "",
     "output_type": "error",
     "traceback": [
      "\u001b[1;31mRunning cells with '/usr/bin/python3' requires the ipykernel package.\n",
      "\u001b[1;31mRun the following command to install 'ipykernel' into the Python environment. \n",
      "\u001b[1;31mCommand: '/usr/bin/python3 -m pip install ipykernel -U --user --force-reinstall'"
     ]
    }
   ],
   "source": [
    "#Looking at the sampling distribution as a normal distribution under the null hypothesis through the histogram\n",
    "null_vals= np.random.normal(0, diffs_cart.std(), diffs_cart.size)\n",
    "\n",
    "plt.figure(figsize=(6,5))\n",
    "plt.hist(null_vals)\n",
    "plt.axvline(obs_dif_ct, c=\"red\")\n",
    "plt.title('Normal Distribution under the null hypothesis',fontsize=15, fontweight=\"bold\")\n",
    "plt.xlabel('proportions of differences', fontsize=15)\n",
    "plt.ylabel('frequency', fontsize=15);"
   ]
  },
  {
   "cell_type": "code",
   "execution_count": null,
   "id": "783fe45c",
   "metadata": {
    "execution": {
     "iopub.execute_input": "2022-09-04T10:00:06.515540Z",
     "iopub.status.busy": "2022-09-04T10:00:06.515117Z",
     "iopub.status.idle": "2022-09-04T10:00:06.521275Z",
     "shell.execute_reply": "2022-09-04T10:00:06.519943Z"
    },
    "papermill": {
     "duration": 0.049834,
     "end_time": "2022-09-04T10:00:06.523727",
     "exception": false,
     "start_time": "2022-09-04T10:00:06.473893",
     "status": "completed"
    },
    "scrolled": true,
    "tags": []
   },
   "outputs": [
    {
     "ename": "",
     "evalue": "",
     "output_type": "error",
     "traceback": [
      "\u001b[1;31mRunning cells with '/usr/bin/python3' requires the ipykernel package.\n",
      "\u001b[1;31mRun the following command to install 'ipykernel' into the Python environment. \n",
      "\u001b[1;31mCommand: '/usr/bin/python3 -m pip install ipykernel -U --user --force-reinstall'"
     ]
    }
   ],
   "source": [
    "print(\"The p-value is: {}\".format((null_vals > obs_dif_ct).mean()))"
   ]
  },
  {
   "cell_type": "code",
   "execution_count": null,
   "id": "16df4e5e",
   "metadata": {
    "execution": {
     "iopub.execute_input": "2022-09-04T10:00:06.605863Z",
     "iopub.status.busy": "2022-09-04T10:00:06.605386Z",
     "iopub.status.idle": "2022-09-04T10:00:06.617377Z",
     "shell.execute_reply": "2022-09-04T10:00:06.615819Z"
    },
    "papermill": {
     "duration": 0.056487,
     "end_time": "2022-09-04T10:00:06.619908",
     "exception": false,
     "start_time": "2022-09-04T10:00:06.563421",
     "status": "completed"
    },
    "tags": []
   },
   "outputs": [
    {
     "ename": "",
     "evalue": "",
     "output_type": "error",
     "traceback": [
      "\u001b[1;31mRunning cells with '/usr/bin/python3' requires the ipykernel package.\n",
      "\u001b[1;31mRun the following command to install 'ipykernel' into the Python environment. \n",
      "\u001b[1;31mCommand: '/usr/bin/python3 -m pip install ipykernel -U --user --force-reinstall'"
     ]
    }
   ],
   "source": [
    "pur_cont= new_df.loc[new_df['campaign_name']=='Control Campaign'][\"purchase\"].mean()\n",
    "pur_test= new_df.loc[new_df['campaign_name']=='Test Campaign'][\"purchase\"].mean()\n",
    "\n",
    "obs_dif_pur= pur_test - pur_cont\n",
    "\n",
    "obs_dif_pur"
   ]
  },
  {
   "cell_type": "code",
   "execution_count": null,
   "id": "7a5b135a",
   "metadata": {
    "execution": {
     "iopub.execute_input": "2022-09-04T10:00:06.702579Z",
     "iopub.status.busy": "2022-09-04T10:00:06.702131Z",
     "iopub.status.idle": "2022-09-04T10:00:23.326690Z",
     "shell.execute_reply": "2022-09-04T10:00:23.325293Z"
    },
    "papermill": {
     "duration": 16.669596,
     "end_time": "2022-09-04T10:00:23.329323",
     "exception": false,
     "start_time": "2022-09-04T10:00:06.659727",
     "status": "completed"
    },
    "tags": []
   },
   "outputs": [
    {
     "ename": "",
     "evalue": "",
     "output_type": "error",
     "traceback": [
      "\u001b[1;31mRunning cells with '/usr/bin/python3' requires the ipykernel package.\n",
      "\u001b[1;31mRun the following command to install 'ipykernel' into the Python environment. \n",
      "\u001b[1;31mCommand: '/usr/bin/python3 -m pip install ipykernel -U --user --force-reinstall'"
     ]
    }
   ],
   "source": [
    "diffs_pur = []\n",
    "\n",
    "for i in range(10000):\n",
    "    b_sample = new_df.sample(new_df.shape[0], replace= True)\n",
    "    \n",
    "    samp_pur_cont= b_sample.loc[b_sample['campaign_name']=='Control Campaign'][\"purchase\"].mean()\n",
    "    samp_pur_test= b_sample.loc[b_sample['campaign_name']=='Test Campaign'][\"purchase\"].mean()\n",
    "    \n",
    "    diffs_pur.append(samp_pur_test - samp_pur_cont)"
   ]
  },
  {
   "cell_type": "code",
   "execution_count": null,
   "id": "2bf5cca7",
   "metadata": {
    "execution": {
     "iopub.execute_input": "2022-09-04T10:00:23.412685Z",
     "iopub.status.busy": "2022-09-04T10:00:23.412059Z",
     "iopub.status.idle": "2022-09-04T10:00:23.736310Z",
     "shell.execute_reply": "2022-09-04T10:00:23.735074Z"
    },
    "papermill": {
     "duration": 0.369388,
     "end_time": "2022-09-04T10:00:23.738834",
     "exception": false,
     "start_time": "2022-09-04T10:00:23.369446",
     "status": "completed"
    },
    "tags": []
   },
   "outputs": [
    {
     "ename": "",
     "evalue": "",
     "output_type": "error",
     "traceback": [
      "\u001b[1;31mRunning cells with '/usr/bin/python3' requires the ipykernel package.\n",
      "\u001b[1;31mRun the following command to install 'ipykernel' into the Python environment. \n",
      "\u001b[1;31mCommand: '/usr/bin/python3 -m pip install ipykernel -U --user --force-reinstall'"
     ]
    }
   ],
   "source": [
    "diffs_pur = np.array(diffs_pur) # convert to numpy array\n",
    "\n",
    "low, high = np.percentile(diffs_pur, 2.5), np.percentile(diffs_pur, 97.5)\n",
    "\n",
    "#Looking at the sampling distribution through the histogram\n",
    "plt.figure(figsize=(6,5))\n",
    "plt.hist(diffs_pur)\n",
    "plt.title('Sampling Distribution by confidence interval', fontsize=15, fontweight=\"bold\")\n",
    "plt.xlabel('proportions of differences', fontsize=15)\n",
    "plt.ylabel('frequency', fontsize=15)\n",
    "plt.axvline(x= low, color= 'r', linewidth= 2)\n",
    "plt.axvline(x= high, color= 'r', linewidth= 2)\n",
    "plt.axvline(x= 0, color= 'b', linewidth= 2);"
   ]
  },
  {
   "cell_type": "code",
   "execution_count": null,
   "id": "82d044e6",
   "metadata": {
    "execution": {
     "iopub.execute_input": "2022-09-04T10:00:23.825058Z",
     "iopub.status.busy": "2022-09-04T10:00:23.824403Z",
     "iopub.status.idle": "2022-09-04T10:00:24.141192Z",
     "shell.execute_reply": "2022-09-04T10:00:24.140044Z"
    },
    "papermill": {
     "duration": 0.361549,
     "end_time": "2022-09-04T10:00:24.143757",
     "exception": false,
     "start_time": "2022-09-04T10:00:23.782208",
     "status": "completed"
    },
    "tags": []
   },
   "outputs": [
    {
     "ename": "",
     "evalue": "",
     "output_type": "error",
     "traceback": [
      "\u001b[1;31mRunning cells with '/usr/bin/python3' requires the ipykernel package.\n",
      "\u001b[1;31mRun the following command to install 'ipykernel' into the Python environment. \n",
      "\u001b[1;31mCommand: '/usr/bin/python3 -m pip install ipykernel -U --user --force-reinstall'"
     ]
    }
   ],
   "source": [
    "#Looking at the sampling distribution as a normal distribution under the null hypothesis through the histogram\n",
    "null_vals= np.random.normal(0, diffs_pur.std(), diffs_pur.size)\n",
    "\n",
    "plt.figure(figsize=(6,5))\n",
    "plt.hist(null_vals)\n",
    "plt.axvline(obs_dif_pur, c=\"red\")\n",
    "plt.title('Normal Distribution under the null hypothesis',fontsize=15, fontweight=\"bold\")\n",
    "plt.xlabel('proportions of differences', fontsize=15)\n",
    "plt.ylabel('frequency', fontsize=15);"
   ]
  },
  {
   "cell_type": "code",
   "execution_count": null,
   "id": "d9568bb8",
   "metadata": {
    "execution": {
     "iopub.execute_input": "2022-09-04T10:00:24.227163Z",
     "iopub.status.busy": "2022-09-04T10:00:24.226687Z",
     "iopub.status.idle": "2022-09-04T10:00:24.233319Z",
     "shell.execute_reply": "2022-09-04T10:00:24.232062Z"
    },
    "papermill": {
     "duration": 0.052528,
     "end_time": "2022-09-04T10:00:24.236891",
     "exception": false,
     "start_time": "2022-09-04T10:00:24.184363",
     "status": "completed"
    },
    "tags": []
   },
   "outputs": [
    {
     "ename": "",
     "evalue": "",
     "output_type": "error",
     "traceback": [
      "\u001b[1;31mRunning cells with '/usr/bin/python3' requires the ipykernel package.\n",
      "\u001b[1;31mRun the following command to install 'ipykernel' into the Python environment. \n",
      "\u001b[1;31mCommand: '/usr/bin/python3 -m pip install ipykernel -U --user --force-reinstall'"
     ]
    }
   ],
   "source": [
    "print(\"The p-value is: {}\".format((null_vals > obs_dif_pur).mean()))"
   ]
  },
  {
   "cell_type": "markdown",
   "id": "5c1b1763",
   "metadata": {
    "papermill": {
     "duration": 0.040413,
     "end_time": "2022-09-04T10:00:24.319678",
     "exception": false,
     "start_time": "2022-09-04T10:00:24.279265",
     "status": "completed"
    },
    "tags": []
   },
   "source": [
    "&#9865; **We find through the results of the probabilistic value of each of the previous four categories that there is no statistical evidence that the average of each of them in the test group is greater than the control group, but this is based on comparing each of them independently with the error rate of the first type by 0.05.**<br><br>\n",
    "\n",
    "**Since each of the previous four categories are related to each other and to be fairer, we must divide the error rate of the first type among them and at the same time in an unbiased way, so the best way to do this is by using the 'holm–bonferroni' theorem, as follows:**"
   ]
  },
  {
   "cell_type": "code",
   "execution_count": null,
   "id": "14c358a5",
   "metadata": {
    "execution": {
     "iopub.execute_input": "2022-09-04T10:00:24.403409Z",
     "iopub.status.busy": "2022-09-04T10:00:24.402124Z",
     "iopub.status.idle": "2022-09-04T10:00:24.413341Z",
     "shell.execute_reply": "2022-09-04T10:00:24.411672Z"
    },
    "papermill": {
     "duration": 0.057036,
     "end_time": "2022-09-04T10:00:24.417176",
     "exception": false,
     "start_time": "2022-09-04T10:00:24.360140",
     "status": "completed"
    },
    "scrolled": true,
    "tags": []
   },
   "outputs": [
    {
     "ename": "",
     "evalue": "",
     "output_type": "error",
     "traceback": [
      "\u001b[1;31mRunning cells with '/usr/bin/python3' requires the ipykernel package.\n",
      "\u001b[1;31mRun the following command to install 'ipykernel' into the Python environment. \n",
      "\u001b[1;31mCommand: '/usr/bin/python3 -m pip install ipykernel -U --user --force-reinstall'"
     ]
    }
   ],
   "source": [
    "hb = {'searches': 0.1352, # first rank\n",
    "      'purchase':0.5147, # second rank\n",
    "      'view content':0.6819, # thrid rank\n",
    "      'add to cart':1} # fourth rank\n",
    "n= 1\n",
    "a= 0.05\n",
    "for key in hb:\n",
    "    p_value= hb[key]\n",
    "    hb_rank= a/((len(hb)-n)+1)\n",
    "    n += 1\n",
    "    \n",
    "    if p_value > hb_rank:   \n",
    "        print(\"\\nThe Rank of {}: p-vlaue({}) > α({}) Fail Reject Null Hypotheses\".\n",
    "              format(key,np.round(p_value, decimals = 3),np.round(hb_rank, decimals = 3)))\n",
    "    else:\n",
    "        print(\"\\nThe Rank of {}: p-vlaue({}) < α({}) Reject Null Hypotheses\".\n",
    "              format(key,np.round(p_value, decimals = 3),np.round(hb_rank, decimals = 3)))"
   ]
  },
  {
   "cell_type": "markdown",
   "id": "7a622e3a",
   "metadata": {
    "papermill": {
     "duration": 0.040808,
     "end_time": "2022-09-04T10:00:24.499504",
     "exception": false,
     "start_time": "2022-09-04T10:00:24.458696",
     "status": "completed"
    },
    "tags": []
   },
   "source": [
    "&#9865; **He extracted for us the same previous results that there is no statistical evidence for any group of them that the mean of the test group is greater than the control**<br><br> \n",
    "\n",
    "=================================================================================================================="
   ]
  },
  {
   "cell_type": "markdown",
   "id": "ad54b73c",
   "metadata": {
    "papermill": {
     "duration": 0.040675,
     "end_time": "2022-09-04T10:00:24.581342",
     "exception": false,
     "start_time": "2022-09-04T10:00:24.540667",
     "status": "completed"
    },
    "tags": []
   },
   "source": [
    "<br><br>\n",
    "\n",
    "<a id='regression'></a>\n",
    "### Part IV - A regression approach\n",
    "\n",
    "\n",
    "#### In this final part, we will see the follows:\n",
    "\n",
    "- the result you achieved in the A/B test in Part II above can also be achieved by performing regression.\n",
    "- A/B tests take an aggregate approach to the conclusions reached based on the data set, which aims to understand the parameters of the population (total population values).\n",
    "- Instead, a machine learning technique such as regression takes a more individualistic and nuanced approach to drawing conclusions, aiming to predict the outcome of each point in a given data set.<br><br> \n",
    "\n",
    "&#9865; **Since the first response variable we'll be working on is the `ctr` variable, it's a 0 to 1 ratio, so the most appropriate type of regression to use is logistic regression, but before that we're going to convert these rates to just two values either \"1\" which means that ctr is greater than The mean or \"0\" means that ctr is equal or less than the mean, then it is a binary categorical variable.**\n"
   ]
  },
  {
   "cell_type": "markdown",
   "id": "057146e1",
   "metadata": {
    "papermill": {
     "duration": 0.040678,
     "end_time": "2022-09-04T10:00:24.664856",
     "exception": false,
     "start_time": "2022-09-04T10:00:24.624178",
     "status": "completed"
    },
    "tags": []
   },
   "source": [
    "**A.** Let's turn `ctr` into a binary dummy numeric variable"
   ]
  },
  {
   "cell_type": "code",
   "execution_count": null,
   "id": "1c538941",
   "metadata": {
    "execution": {
     "iopub.execute_input": "2022-09-04T10:00:24.749379Z",
     "iopub.status.busy": "2022-09-04T10:00:24.748654Z",
     "iopub.status.idle": "2022-09-04T10:00:24.780668Z",
     "shell.execute_reply": "2022-09-04T10:00:24.779287Z"
    },
    "papermill": {
     "duration": 0.076825,
     "end_time": "2022-09-04T10:00:24.782933",
     "exception": false,
     "start_time": "2022-09-04T10:00:24.706108",
     "status": "completed"
    },
    "scrolled": true,
    "tags": []
   },
   "outputs": [
    {
     "ename": "",
     "evalue": "",
     "output_type": "error",
     "traceback": [
      "\u001b[1;31mRunning cells with '/usr/bin/python3' requires the ipykernel package.\n",
      "\u001b[1;31mRun the following command to install 'ipykernel' into the Python environment. \n",
      "\u001b[1;31mCommand: '/usr/bin/python3 -m pip install ipykernel -U --user --force-reinstall'"
     ]
    }
   ],
   "source": [
    "ab_ctr= []\n",
    "for i in new_df['ctr']:\n",
    "    if np.round(i, decimals = 3) > np.round(new_df.ctr.mean(), decimals = 3):\n",
    "        ab_ctr.append(1)\n",
    "    else:\n",
    "        ab_ctr.append(0)\n",
    "new_df['ab_ctr'] = ab_ctr\n",
    "\n",
    "new_df.head()"
   ]
  },
  {
   "cell_type": "markdown",
   "id": "76fb64db",
   "metadata": {
    "papermill": {
     "duration": 0.041075,
     "end_time": "2022-09-04T10:00:24.865046",
     "exception": false,
     "start_time": "2022-09-04T10:00:24.823971",
     "status": "completed"
    },
    "tags": []
   },
   "source": [
    "**Our first response variable and its results depend on the expectation variable, which in our case here is represented by both the campaign variable and the spending variable.**\n",
    "\n",
    "**But since the campaign variable is a categorical variable, we will first convert it to a dummy variable so that it becomes a numeric value for use in predictions, as follows:**"
   ]
  },
  {
   "cell_type": "code",
   "execution_count": null,
   "id": "8e63610b",
   "metadata": {
    "execution": {
     "iopub.execute_input": "2022-09-04T10:00:24.951151Z",
     "iopub.status.busy": "2022-09-04T10:00:24.950182Z",
     "iopub.status.idle": "2022-09-04T10:00:24.974906Z",
     "shell.execute_reply": "2022-09-04T10:00:24.973806Z"
    },
    "papermill": {
     "duration": 0.070523,
     "end_time": "2022-09-04T10:00:24.977385",
     "exception": false,
     "start_time": "2022-09-04T10:00:24.906862",
     "status": "completed"
    },
    "scrolled": true,
    "tags": []
   },
   "outputs": [
    {
     "ename": "",
     "evalue": "",
     "output_type": "error",
     "traceback": [
      "\u001b[1;31mRunning cells with '/usr/bin/python3' requires the ipykernel package.\n",
      "\u001b[1;31mRun the following command to install 'ipykernel' into the Python environment. \n",
      "\u001b[1;31mCommand: '/usr/bin/python3 -m pip install ipykernel -U --user --force-reinstall'"
     ]
    }
   ],
   "source": [
    "new_df[['control', 'test']]= pd.get_dummies(new_df['campaign_name'])\n",
    "new_df.drop('control', axis= 1, inplace= True)\n",
    "new_df.rename(columns={'test': 'ab_page'}, inplace= True)\n",
    "\n",
    "new_df.head()"
   ]
  },
  {
   "cell_type": "markdown",
   "id": "86803415",
   "metadata": {
    "papermill": {
     "duration": 0.051123,
     "end_time": "2022-09-04T10:00:25.075900",
     "exception": false,
     "start_time": "2022-09-04T10:00:25.024777",
     "status": "completed"
    },
    "tags": []
   },
   "source": [
    "<br><br> \n",
    "**B.** Let's use statsmodels to instantiate our regression model on the two columns we created in part (a). Above, adding another spending column and then doing a model-fit to predict whether or not an individual will convert."
   ]
  },
  {
   "cell_type": "code",
   "execution_count": null,
   "id": "8cfe8837",
   "metadata": {
    "execution": {
     "iopub.execute_input": "2022-09-04T10:00:25.164219Z",
     "iopub.status.busy": "2022-09-04T10:00:25.163093Z",
     "iopub.status.idle": "2022-09-04T10:00:25.383940Z",
     "shell.execute_reply": "2022-09-04T10:00:25.382217Z"
    },
    "papermill": {
     "duration": 0.267534,
     "end_time": "2022-09-04T10:00:25.387309",
     "exception": false,
     "start_time": "2022-09-04T10:00:25.119775",
     "status": "completed"
    },
    "tags": []
   },
   "outputs": [
    {
     "ename": "",
     "evalue": "",
     "output_type": "error",
     "traceback": [
      "\u001b[1;31mRunning cells with '/usr/bin/python3' requires the ipykernel package.\n",
      "\u001b[1;31mRun the following command to install 'ipykernel' into the Python environment. \n",
      "\u001b[1;31mCommand: '/usr/bin/python3 -m pip install ipykernel -U --user --force-reinstall'"
     ]
    }
   ],
   "source": [
    "import statsmodels.formula.api as smf\n",
    "\n",
    "log_mod = smf.logit(formula=\"ab_ctr ~ ab_page + spend_usd\", data= new_df).fit()\n",
    "\n",
    "log_mod.summary()"
   ]
  },
  {
   "cell_type": "markdown",
   "id": "548a7157",
   "metadata": {
    "papermill": {
     "duration": 0.049087,
     "end_time": "2022-09-04T10:00:25.507011",
     "exception": false,
     "start_time": "2022-09-04T10:00:25.457924",
     "status": "completed"
    },
    "tags": []
   },
   "source": [
    "- First, an LLR p-value of 8.1801e-05 (0.000081801) indicates that the model is generally statistically significant because it is less than 0.05, which allows us to look at the rest of the results.<br><br> \n",
    "\n",
    "- Second, if we look at the independent variables represented by the two coefficients (campaign and spending), we find that it is the campaign coefficient that has a significant effect on the log odds of CTR.<br><br> \n",
    "\n",
    "- So, since the dummy variable \"Control\" has been dropped from the analysis, it is considered the comparison group and the interpretation of the other category, which is \"test\".<br><br> \n",
    "\n",
    "- We can say if the campaign is of the test type compared to the campaign of the control type, there is an ascending ratio of 3.2464 in the log odds of the click-through rate(CTR).<br><br> \n",
    "\n",
    "**In fact, the interpretation of log odds is not a very obvious thing to think about its effects, so the easiest way to interpret the results is to convert the logistic regression model coefficients into odds ratio, where we can do this by using the exponential for the coefficient value and confidence intervals, as follows:**"
   ]
  },
  {
   "cell_type": "code",
   "execution_count": null,
   "id": "6ec724bf",
   "metadata": {
    "execution": {
     "iopub.execute_input": "2022-09-04T10:00:25.594363Z",
     "iopub.status.busy": "2022-09-04T10:00:25.593596Z",
     "iopub.status.idle": "2022-09-04T10:00:25.609768Z",
     "shell.execute_reply": "2022-09-04T10:00:25.608854Z"
    },
    "papermill": {
     "duration": 0.062867,
     "end_time": "2022-09-04T10:00:25.612120",
     "exception": false,
     "start_time": "2022-09-04T10:00:25.549253",
     "status": "completed"
    },
    "scrolled": true,
    "tags": []
   },
   "outputs": [
    {
     "ename": "",
     "evalue": "",
     "output_type": "error",
     "traceback": [
      "\u001b[1;31mRunning cells with '/usr/bin/python3' requires the ipykernel package.\n",
      "\u001b[1;31mRun the following command to install 'ipykernel' into the Python environment. \n",
      "\u001b[1;31mCommand: '/usr/bin/python3 -m pip install ipykernel -U --user --force-reinstall'"
     ]
    }
   ],
   "source": [
    "model_odds= pd.DataFrame(np.exp(log_mod.params), columns=['OR'])\n",
    "model_odds['p-value']= log_mod.pvalues\n",
    "model_odds[['2.5%', '97.5']]= np.exp(log_mod.conf_int())\n",
    "model_odds"
   ]
  },
  {
   "cell_type": "markdown",
   "id": "3787f69f",
   "metadata": {
    "papermill": {
     "duration": 0.042492,
     "end_time": "2022-09-04T10:00:25.697411",
     "exception": false,
     "start_time": "2022-09-04T10:00:25.654919",
     "status": "completed"
    },
    "tags": []
   },
   "source": [
    "&#9865; **We can now interpret the result of the coefficient \"ab_page\", that the campaign with the test type compared to the campaign with the control type is likely to have a greater CTR by a factor of 25.70.**<br><br> \n",
    "\n",
    "\n",
    "**Since the following response variables that we will work on are (search, content viewing, adding to cart and purchasing), the most appropriate type of regression used for them is linear regression.**<br><br>\n",
    "\n",
    "**The second response variable that we will deal with is searches, and if we look at the expectation variables that are likely to be affected by them (ab_page, ab_ctr, spend_usd).**<br><br> \n",
    "\n",
    "**C.** Let's make a fit of the model to the `search` variable"
   ]
  },
  {
   "cell_type": "code",
   "execution_count": null,
   "id": "db722f3c",
   "metadata": {
    "execution": {
     "iopub.execute_input": "2022-09-04T10:00:25.852457Z",
     "iopub.status.busy": "2022-09-04T10:00:25.851664Z",
     "iopub.status.idle": "2022-09-04T10:00:26.516606Z",
     "shell.execute_reply": "2022-09-04T10:00:26.515241Z"
    },
    "papermill": {
     "duration": 0.711999,
     "end_time": "2022-09-04T10:00:26.519159",
     "exception": false,
     "start_time": "2022-09-04T10:00:25.807160",
     "status": "completed"
    },
    "tags": []
   },
   "outputs": [
    {
     "ename": "",
     "evalue": "",
     "output_type": "error",
     "traceback": [
      "\u001b[1;31mRunning cells with '/usr/bin/python3' requires the ipykernel package.\n",
      "\u001b[1;31mRun the following command to install 'ipykernel' into the Python environment. \n",
      "\u001b[1;31mCommand: '/usr/bin/python3 -m pip install ipykernel -U --user --force-reinstall'"
     ]
    }
   ],
   "source": [
    "import statsmodels.api as sms\n",
    "\n",
    "new_df['intercept'] = 1 \n",
    "\n",
    "lm2 = sms.OLS(new_df['searches'], new_df[['intercept', 'ab_page', 'ab_ctr', 'spend_usd']])\n",
    "results2 = lm2.fit()\n",
    "results2.summary()"
   ]
  },
  {
   "cell_type": "code",
   "execution_count": null,
   "id": "26a63f41",
   "metadata": {
    "execution": {
     "iopub.execute_input": "2022-09-04T10:00:26.608257Z",
     "iopub.status.busy": "2022-09-04T10:00:26.607455Z",
     "iopub.status.idle": "2022-09-04T10:00:26.613561Z",
     "shell.execute_reply": "2022-09-04T10:00:26.612353Z"
    },
    "papermill": {
     "duration": 0.053949,
     "end_time": "2022-09-04T10:00:26.616103",
     "exception": false,
     "start_time": "2022-09-04T10:00:26.562154",
     "status": "completed"
    },
    "tags": []
   },
   "outputs": [
    {
     "ename": "",
     "evalue": "",
     "output_type": "error",
     "traceback": [
      "\u001b[1;31mRunning cells with '/usr/bin/python3' requires the ipykernel package.\n",
      "\u001b[1;31mRun the following command to install 'ipykernel' into the Python environment. \n",
      "\u001b[1;31mCommand: '/usr/bin/python3 -m pip install ipykernel -U --user --force-reinstall'"
     ]
    }
   ],
   "source": [
    "new_df['ctr_page']= new_df['ab_ctr'] * new_df['ab_page']"
   ]
  },
  {
   "cell_type": "code",
   "execution_count": null,
   "id": "4e15dd8b",
   "metadata": {
    "execution": {
     "iopub.execute_input": "2022-09-04T10:00:26.703793Z",
     "iopub.status.busy": "2022-09-04T10:00:26.703046Z",
     "iopub.status.idle": "2022-09-04T10:00:26.724916Z",
     "shell.execute_reply": "2022-09-04T10:00:26.723734Z"
    },
    "papermill": {
     "duration": 0.068099,
     "end_time": "2022-09-04T10:00:26.727289",
     "exception": false,
     "start_time": "2022-09-04T10:00:26.659190",
     "status": "completed"
    },
    "tags": []
   },
   "outputs": [
    {
     "ename": "",
     "evalue": "",
     "output_type": "error",
     "traceback": [
      "\u001b[1;31mRunning cells with '/usr/bin/python3' requires the ipykernel package.\n",
      "\u001b[1;31mRun the following command to install 'ipykernel' into the Python environment. \n",
      "\u001b[1;31mCommand: '/usr/bin/python3 -m pip install ipykernel -U --user --force-reinstall'"
     ]
    }
   ],
   "source": [
    "lm2 = sms.OLS(new_df['searches'], new_df[['intercept', 'ab_page', 'ab_ctr', 'ctr_page', 'spend_usd']])\n",
    "results2 = lm2.fit()\n",
    "results2.summary()"
   ]
  },
  {
   "cell_type": "code",
   "execution_count": null,
   "id": "bffd14ed",
   "metadata": {
    "execution": {
     "iopub.execute_input": "2022-09-04T10:00:26.815129Z",
     "iopub.status.busy": "2022-09-04T10:00:26.814709Z",
     "iopub.status.idle": "2022-09-04T10:00:26.842133Z",
     "shell.execute_reply": "2022-09-04T10:00:26.841213Z"
    },
    "papermill": {
     "duration": 0.074477,
     "end_time": "2022-09-04T10:00:26.844530",
     "exception": false,
     "start_time": "2022-09-04T10:00:26.770053",
     "status": "completed"
    },
    "scrolled": true,
    "tags": []
   },
   "outputs": [
    {
     "ename": "",
     "evalue": "",
     "output_type": "error",
     "traceback": [
      "\u001b[1;31mRunning cells with '/usr/bin/python3' requires the ipykernel package.\n",
      "\u001b[1;31mRun the following command to install 'ipykernel' into the Python environment. \n",
      "\u001b[1;31mCommand: '/usr/bin/python3 -m pip install ipykernel -U --user --force-reinstall'"
     ]
    }
   ],
   "source": [
    "from patsy import dmatrices\n",
    "from statsmodels.stats.outliers_influence import variance_inflation_factor\n",
    "\n",
    "y, x = dmatrices(\"searches ~ ab_page + ab_ctr + ctr_page + spend_usd\", new_df, return_type=\"dataframe\")\n",
    "vif = pd.DataFrame()\n",
    "vif[\"vector_1\"] =  [variance_inflation_factor(x.values, i) for i in range(x.shape[1])]\n",
    "vif[\"futears_1\"] = x.columns\n",
    "vif"
   ]
  },
  {
   "cell_type": "markdown",
   "id": "e4874741",
   "metadata": {
    "papermill": {
     "duration": 0.044138,
     "end_time": "2022-09-04T10:00:26.932360",
     "exception": false,
     "start_time": "2022-09-04T10:00:26.888222",
     "status": "completed"
    },
    "tags": []
   },
   "source": [
    "&#9865; **From the previous results, we did not find any statistical evidence that any of the previous coefficients had an effect on the search rate, and this is also after we added the so-called interaction process between ab_page and ab_ctr to the logistic regression, and made sure that there was no variance inflation factor(VIFs) that could affect the process results.**<br><br>\n",
    "\n",
    "**The Third response variable that we will deal with is view content, and if we look at the expectation variables that are likely to be affected by them (ab_page, ab_ctr, spend_usd, searches).**<br><br>\n",
    "\n",
    "**D.** Let's make a fit of the model to the `view_content` variable"
   ]
  },
  {
   "cell_type": "code",
   "execution_count": null,
   "id": "9c51c879",
   "metadata": {
    "execution": {
     "iopub.execute_input": "2022-09-04T10:00:27.022520Z",
     "iopub.status.busy": "2022-09-04T10:00:27.021760Z",
     "iopub.status.idle": "2022-09-04T10:00:27.043584Z",
     "shell.execute_reply": "2022-09-04T10:00:27.042424Z"
    },
    "papermill": {
     "duration": 0.069952,
     "end_time": "2022-09-04T10:00:27.046249",
     "exception": false,
     "start_time": "2022-09-04T10:00:26.976297",
     "status": "completed"
    },
    "tags": []
   },
   "outputs": [
    {
     "ename": "",
     "evalue": "",
     "output_type": "error",
     "traceback": [
      "\u001b[1;31mRunning cells with '/usr/bin/python3' requires the ipykernel package.\n",
      "\u001b[1;31mRun the following command to install 'ipykernel' into the Python environment. \n",
      "\u001b[1;31mCommand: '/usr/bin/python3 -m pip install ipykernel -U --user --force-reinstall'"
     ]
    }
   ],
   "source": [
    "lm3 = sms.OLS(new_df['view_content'], new_df[['intercept', 'ab_page', 'ab_ctr',\n",
    "                                                  'ctr_page', 'searches', 'spend_usd']])\n",
    "results3 = lm3.fit()\n",
    "results3.summary()"
   ]
  },
  {
   "cell_type": "code",
   "execution_count": null,
   "id": "960ff90e",
   "metadata": {
    "execution": {
     "iopub.execute_input": "2022-09-04T10:00:27.136736Z",
     "iopub.status.busy": "2022-09-04T10:00:27.136281Z",
     "iopub.status.idle": "2022-09-04T10:00:27.165313Z",
     "shell.execute_reply": "2022-09-04T10:00:27.164324Z"
    },
    "papermill": {
     "duration": 0.077667,
     "end_time": "2022-09-04T10:00:27.168150",
     "exception": false,
     "start_time": "2022-09-04T10:00:27.090483",
     "status": "completed"
    },
    "scrolled": true,
    "tags": []
   },
   "outputs": [
    {
     "ename": "",
     "evalue": "",
     "output_type": "error",
     "traceback": [
      "\u001b[1;31mRunning cells with '/usr/bin/python3' requires the ipykernel package.\n",
      "\u001b[1;31mRun the following command to install 'ipykernel' into the Python environment. \n",
      "\u001b[1;31mCommand: '/usr/bin/python3 -m pip install ipykernel -U --user --force-reinstall'"
     ]
    }
   ],
   "source": [
    "y, x = dmatrices(\"view_content ~ ab_page + ab_ctr + ctr_page + searches + spend_usd\",\n",
    "                 new_df, return_type=\"dataframe\")\n",
    "vif = pd.DataFrame()\n",
    "vif[\"vector_1\"] =  [variance_inflation_factor(x.values, i) for i in range(x.shape[1])]\n",
    "vif[\"futears_1\"] = x.columns\n",
    "vif"
   ]
  },
  {
   "cell_type": "markdown",
   "id": "25596d6b",
   "metadata": {
    "papermill": {
     "duration": 0.043582,
     "end_time": "2022-09-04T10:00:27.255394",
     "exception": false,
     "start_time": "2022-09-04T10:00:27.211812",
     "status": "completed"
    },
    "tags": []
   },
   "source": [
    "- From the previous results, we find that the two coefficients with statistical significance are (ab_page, searches).<br><br>\n",
    "\n",
    "- We can interpret the result of the ab_page coefficient, that for each missing unit in the numbers of the campaign with the type of test, the number of content views is also likely to decrease by 388.<br><br>\n",
    "\n",
    "\n",
    "- Interpreting the result of the searches coefficient, that for each decrease unit in searches, it is likely that the view content will increase by 0.954!.<br><br>\n",
    "\n",
    "**The Fourth response variable that we will deal with is add to cart, and if we look at the expectation variables that are likely to be affected by them (ab_page, ab_ctr, spend_usd, searches, view_content).**<br><br>\n",
    "\n",
    "**E.** Let's make a fit of the model to the `add_to_cart` variable"
   ]
  },
  {
   "cell_type": "code",
   "execution_count": null,
   "id": "14893ee9",
   "metadata": {
    "execution": {
     "iopub.execute_input": "2022-09-04T10:00:27.345012Z",
     "iopub.status.busy": "2022-09-04T10:00:27.344209Z",
     "iopub.status.idle": "2022-09-04T10:00:27.367210Z",
     "shell.execute_reply": "2022-09-04T10:00:27.366052Z"
    },
    "papermill": {
     "duration": 0.070605,
     "end_time": "2022-09-04T10:00:27.369632",
     "exception": false,
     "start_time": "2022-09-04T10:00:27.299027",
     "status": "completed"
    },
    "tags": []
   },
   "outputs": [
    {
     "ename": "",
     "evalue": "",
     "output_type": "error",
     "traceback": [
      "\u001b[1;31mRunning cells with '/usr/bin/python3' requires the ipykernel package.\n",
      "\u001b[1;31mRun the following command to install 'ipykernel' into the Python environment. \n",
      "\u001b[1;31mCommand: '/usr/bin/python3 -m pip install ipykernel -U --user --force-reinstall'"
     ]
    }
   ],
   "source": [
    "lm4 = sms.OLS(new_df['add_to_cart'], new_df[['intercept', 'ab_page', 'ab_ctr',\n",
    "                                                  'ctr_page', 'searches',\n",
    "                                                 'view_content','spend_usd']])\n",
    "results4 = lm4.fit()\n",
    "results4.summary()"
   ]
  },
  {
   "cell_type": "code",
   "execution_count": null,
   "id": "5195f981",
   "metadata": {
    "execution": {
     "iopub.execute_input": "2022-09-04T10:00:27.462602Z",
     "iopub.status.busy": "2022-09-04T10:00:27.461792Z",
     "iopub.status.idle": "2022-09-04T10:00:27.489845Z",
     "shell.execute_reply": "2022-09-04T10:00:27.488746Z"
    },
    "papermill": {
     "duration": 0.076935,
     "end_time": "2022-09-04T10:00:27.492454",
     "exception": false,
     "start_time": "2022-09-04T10:00:27.415519",
     "status": "completed"
    },
    "tags": []
   },
   "outputs": [
    {
     "ename": "",
     "evalue": "",
     "output_type": "error",
     "traceback": [
      "\u001b[1;31mRunning cells with '/usr/bin/python3' requires the ipykernel package.\n",
      "\u001b[1;31mRun the following command to install 'ipykernel' into the Python environment. \n",
      "\u001b[1;31mCommand: '/usr/bin/python3 -m pip install ipykernel -U --user --force-reinstall'"
     ]
    }
   ],
   "source": [
    "y, x = dmatrices(\"add_to_cart ~ ab_page + ab_ctr + ctr_page + searches + view_content + spend_usd\",\n",
    "                 new_df, return_type=\"dataframe\")\n",
    "vif = pd.DataFrame()\n",
    "vif[\"vector_1\"] =  [variance_inflation_factor(x.values, i) for i in range(x.shape[1])]\n",
    "vif[\"futears_1\"] = x.columns\n",
    "vif"
   ]
  },
  {
   "cell_type": "markdown",
   "id": "00bd0f78",
   "metadata": {
    "papermill": {
     "duration": 0.04491,
     "end_time": "2022-09-04T10:00:27.583007",
     "exception": false,
     "start_time": "2022-09-04T10:00:27.538097",
     "status": "completed"
    },
    "tags": []
   },
   "source": [
    "&#9865; **From the previous results, we find that a single coefficients is statistically significant, which is ab_page, so we can interpret its result that for each unit an increase in the numbers of the campaign with the test type, it is likely that the add to cart will decrease by 418!.**<br><br>\n",
    "\n",
    "**The Fifth response variable that we will deal with is add to cart, and if we look at the expectation variables that are likely to be affected by them (ab_page, ab_ctr, spend_usd, searches, view_content, add_to_cart).<br><br>\n",
    "\n",
    "**F.** Let's make a fit of the model to the `purchase` variable"
   ]
  },
  {
   "cell_type": "code",
   "execution_count": null,
   "id": "8eada226",
   "metadata": {
    "execution": {
     "iopub.execute_input": "2022-09-04T10:00:27.675405Z",
     "iopub.status.busy": "2022-09-04T10:00:27.674651Z",
     "iopub.status.idle": "2022-09-04T10:00:27.700932Z",
     "shell.execute_reply": "2022-09-04T10:00:27.699699Z"
    },
    "papermill": {
     "duration": 0.074988,
     "end_time": "2022-09-04T10:00:27.703422",
     "exception": false,
     "start_time": "2022-09-04T10:00:27.628434",
     "status": "completed"
    },
    "tags": []
   },
   "outputs": [
    {
     "ename": "",
     "evalue": "",
     "output_type": "error",
     "traceback": [
      "\u001b[1;31mRunning cells with '/usr/bin/python3' requires the ipykernel package.\n",
      "\u001b[1;31mRun the following command to install 'ipykernel' into the Python environment. \n",
      "\u001b[1;31mCommand: '/usr/bin/python3 -m pip install ipykernel -U --user --force-reinstall'"
     ]
    }
   ],
   "source": [
    "lm5 = sms.OLS(new_df['purchase'], new_df[['intercept', 'ab_page', 'ab_ctr',\n",
    "                                                  'ctr_page', 'searches',\n",
    "                                                 'view_content', 'add_to_cart', 'spend_usd']])\n",
    "results5 = lm5.fit()\n",
    "results5.summary()"
   ]
  },
  {
   "cell_type": "code",
   "execution_count": null,
   "id": "ce5bd105",
   "metadata": {
    "execution": {
     "iopub.execute_input": "2022-09-04T10:00:27.797792Z",
     "iopub.status.busy": "2022-09-04T10:00:27.797011Z",
     "iopub.status.idle": "2022-09-04T10:00:27.828166Z",
     "shell.execute_reply": "2022-09-04T10:00:27.827057Z"
    },
    "papermill": {
     "duration": 0.081104,
     "end_time": "2022-09-04T10:00:27.830582",
     "exception": false,
     "start_time": "2022-09-04T10:00:27.749478",
     "status": "completed"
    },
    "scrolled": true,
    "tags": []
   },
   "outputs": [
    {
     "ename": "",
     "evalue": "",
     "output_type": "error",
     "traceback": [
      "\u001b[1;31mRunning cells with '/usr/bin/python3' requires the ipykernel package.\n",
      "\u001b[1;31mRun the following command to install 'ipykernel' into the Python environment. \n",
      "\u001b[1;31mCommand: '/usr/bin/python3 -m pip install ipykernel -U --user --force-reinstall'"
     ]
    }
   ],
   "source": [
    "y, x = dmatrices(\"purchase ~ ab_page + ab_ctr + ctr_page + searches + view_content + add_to_cart + spend_usd\",\n",
    "                 new_df, return_type=\"dataframe\")\n",
    "vif = pd.DataFrame()\n",
    "vif[\"vector_1\"] =  [variance_inflation_factor(x.values, i) for i in range(x.shape[1])]\n",
    "vif[\"futears_1\"] = x.columns\n",
    "vif"
   ]
  },
  {
   "cell_type": "markdown",
   "id": "2c405529",
   "metadata": {
    "papermill": {
     "duration": 0.046172,
     "end_time": "2022-09-04T10:00:27.923266",
     "exception": false,
     "start_time": "2022-09-04T10:00:27.877094",
     "status": "completed"
    },
    "tags": []
   },
   "source": [
    "&#9865; **From the previous results we found that there is one parameter that is statistically significant and that is add_to_cart , so we can interpret its result that for each unit increase in the numbers of add to cart, purchases are likely to increase by 0.24.**<br><br>\n",
    "\n",
    "================================================================================================================="
   ]
  },
  {
   "cell_type": "markdown",
   "id": "86133d72",
   "metadata": {
    "papermill": {
     "duration": 0.045568,
     "end_time": "2022-09-04T10:00:28.014667",
     "exception": false,
     "start_time": "2022-09-04T10:00:27.969099",
     "status": "completed"
    },
    "tags": []
   },
   "source": [
    "<br><br>\n",
    "<a id='Concl'></a>\n",
    "## Conclusions\n",
    "\n",
    "#### A. Descriptive Statistics Conclutions:\n",
    "\n",
    "- The number of campaigns in the two groups was approximately equal, which suggests that there would be no bias in the results.<br><br>\n",
    "\n",
    "- When we extract the number of unique ad views on the landing page for each group, we found that the number of views in the control group is almost double the number of views in the test group, which is likely to lead to a significant bias in the results in favor of the control group.<br><br>\n",
    "\n",
    "- When we calculated the click-through (CTR) rate for both groups, we found that this time the rate for the test group became twice that of the control group.<br><br>\n",
    "\n",
    "- When we counted the number of people who clicked on the site link for both groups, we found that those who clicked the site link who viewed the ad in the test group were greater in most months than the control group, which explains why the differences in previous results occurred.<br><br>\n",
    "\n",
    "- When we extract average spending for both groups, we also actually find that there is a large spending gap in most months in favor of the test group.<br><br>\n",
    "\n",
    "- So, it is likely that most of the above results were caused by the following reasons:<br><br>\n",
    "\n",
    "  **1.** Despite spending less on the control group's ad campaigns and getting more unique views, these views were not from highly targeted people for the landing page.\n",
    "  \n",
    "  **2.** On the other hand, the test group spent more on ad campaigns and got fewer unique views, but these views were for more highly targeted individuals for the landing page, which led to most of them clicking on the site link.<br><br><br><br>\n",
    "  \n",
    " \n",
    " \n",
    "#### B. A/B Test  & Regression Analysis Conclutions:\n",
    " \n",
    "- When we did a/b tests and regression for the click-through rates (CTR), we found that we had statistical evidence that the test group had a higher (CTR) than the control group.<br><br>\n",
    "\n",
    "- In spite of that, when we performed the same tests for (search, content viewing, add to cart and purchasing), we found that there is no statistical evidence that there is a difference in the averages of each of them in the test group from the control group.<br><br><br><br>\n",
    "\n",
    "\n",
    "**Based on the previously mentioned results, we believe that we should do the experiment for a longer period, taking into account the following things:**\n",
    "\n",
    "- Ensure that the advertising campaigns are prepared correctly, to attract strong and equal target individuals to both groups.<br><br>\n",
    "- There must be enough views and clicks to get meaningful and repeatable results.<br><br>\n",
    "- Practical importance of click-through rate versus statistical significance, eg (cost of launching a new ad versus profit from increased purchases).<br><br>"
   ]
  }
 ],
 "metadata": {
  "kernelspec": {
   "display_name": "Python 3",
   "language": "python",
   "name": "python3"
  },
  "language_info": {
   "codemirror_mode": {
    "name": "ipython",
    "version": 3
   },
   "file_extension": ".py",
   "mimetype": "text/x-python",
   "name": "python",
   "nbconvert_exporter": "python",
   "pygments_lexer": "ipython3",
   "version": "3.9.2"
  },
  "papermill": {
   "default_parameters": {},
   "duration": 125.786134,
   "end_time": "2022-09-04T10:00:28.882712",
   "environment_variables": {},
   "exception": null,
   "input_path": "__notebook__.ipynb",
   "output_path": "__notebook__.ipynb",
   "parameters": {},
   "start_time": "2022-09-04T09:58:23.096578",
   "version": "2.3.4"
  }
 },
 "nbformat": 4,
 "nbformat_minor": 5
}
